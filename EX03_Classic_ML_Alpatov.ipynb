{
  "cells": [
    {
      "cell_type": "markdown",
      "metadata": {
        "id": "hglFTv9n1dMW"
      },
      "source": [
        "# Задание 1. Bootstrap"
      ]
    },
    {
      "cell_type": "markdown",
      "metadata": {
        "id": "gFuxewOf1dMY"
      },
      "source": [
        "В этом задании используйте датасет breast_cancer — классический датасет для задачи бинарной классификации. Обучите модели:\n",
        "\n",
        " - `DecisionTreeClassifier`\n",
        " - `RandomForestClassifier`\n",
        " - `LigthGBMClassifier`\n",
        " - `SVC`\n",
        " - `BaggingClassifier` с базовым класификатором `SVC`.\n",
        "\n",
        "Параметры моделей можете оставить по умолчанию или задать сами.\n",
        "\n",
        "Для каждой модели посчитайте [корреляцию Мэтьюса](https://en.wikipedia.org/wiki/Phi_coefficient) — метрику для оценки качества бинарной классификации, в частности, устойчивую к дисбалансу классов, ([`sklearn.metrics.matthews_corrcoef`](https://scikit-learn.org/stable/modules/generated/sklearn.metrics.matthews_corrcoef.html), подробнее почитать про его пользу можно [здесь](https://bmcgenomics.biomedcentral.com/articles/10.1186/s12864-019-6413-7)) — для предсказанного ею класса и реального.\n",
        "\n",
        "С помощью bootstrap-подхода постройте 90% доверительные интервалы для качества полученных моделей. Используйте функцию `bootstrap_metric()` из лекции.\n",
        "\n",
        "Постройте [боксплоты](https://seaborn.pydata.org/generated/seaborn.boxplot.html) для качества полученных моделей."
      ]
    },
    {
      "cell_type": "markdown",
      "metadata": {
        "id": "h8TMoBb91dMZ"
      },
      "source": [
        "Импорт необходимых библиотек:"
      ]
    },
    {
      "cell_type": "code",
      "execution_count": 1,
      "metadata": {
        "id": "yLMnP0GE1dMZ"
      },
      "outputs": [],
      "source": [
        "import lightgbm\n",
        "import numpy as np\n",
        "import pandas as pd\n",
        "import seaborn as sns\n",
        "import sklearn.datasets\n",
        "import matplotlib.pyplot as plt\n",
        "\n",
        "from sklearn.svm import SVC\n",
        "from sklearn.metrics import matthews_corrcoef\n",
        "from sklearn.tree import DecisionTreeClassifier\n",
        "from sklearn.model_selection import train_test_split\n",
        "from sklearn.ensemble import RandomForestClassifier, BaggingClassifier"
      ]
    },
    {
      "cell_type": "markdown",
      "metadata": {
        "id": "JlxF_GvN1dMa"
      },
      "source": [
        "Загрузка датасета:"
      ]
    },
    {
      "cell_type": "code",
      "execution_count": null,
      "metadata": {
        "id": "x4Cs_H4g1dMb"
      },
      "outputs": [],
      "source": [
        "breast_cancer = sklearn.datasets.load_breast_cancer()\n",
        "print(breast_cancer.DESCR)"
      ]
    },
    {
      "cell_type": "code",
      "execution_count": 3,
      "metadata": {
        "id": "koNsolqy1dMb"
      },
      "outputs": [],
      "source": [
        "x = breast_cancer.data\n",
        "y = breast_cancer.target\n",
        "x_train, x_test, y_train, y_test = train_test_split(x, y, random_state=42)"
      ]
    },
    {
      "cell_type": "code",
      "execution_count": 4,
      "metadata": {
        "id": "dvRq9wia1dMc"
      },
      "outputs": [],
      "source": [
        "# Your code here\n",
        "dtc = DecisionTreeClassifier()\n",
        "rfc = RandomForestClassifier()\n",
        "lgbm = lightgbm.LGBMClassifier()\n",
        "svc = SVC()\n",
        "bagsvc = BaggingClassifier(estimator=SVC())\n",
        "\n",
        "models = [dtc, rfc, lgbm, svc, bagsvc]"
      ]
    },
    {
      "cell_type": "code",
      "source": [
        "metrics = []\n",
        "preds = []\n",
        "\n",
        "for model in models:\n",
        "    model.fit(x_train, y_train)\n",
        "    preds.append(model.predict(x_test))\n",
        "    metrics.append(matthews_corrcoef(y_test, preds[-1]))\n",
        ""
      ],
      "metadata": {
        "id": "jxD2ibL3trQb"
      },
      "execution_count": null,
      "outputs": []
    },
    {
      "cell_type": "code",
      "source": [
        "print(metrics)"
      ],
      "metadata": {
        "colab": {
          "base_uri": "https://localhost:8080/"
        },
        "id": "nQ41FoLiwk4y",
        "outputId": "f29a19cc-de36-491f-c3bc-7e0cc46b97b8"
      },
      "execution_count": 7,
      "outputs": [
        {
          "output_type": "stream",
          "name": "stdout",
          "text": [
            "[0.8963356530877563, 0.940477037066757, 0.8963356530877563, 0.8965050191922527, 0.8965050191922527]\n"
          ]
        }
      ]
    },
    {
      "cell_type": "code",
      "source": [
        "def bootstrap_metric(x, y, metric_fn, samples_cnt=1000, random_state=42):\n",
        "    np.random.seed(random_state)\n",
        "    b_metric = np.zeros(samples_cnt)\n",
        "    for it in range(samples_cnt):\n",
        "        poses = np.random.choice(x.shape[0], size=x.shape[0], replace=True)\n",
        "\n",
        "        x_boot = x[poses]\n",
        "        y_boot = y[poses]\n",
        "        m_val = metric_fn(x_boot, y_boot)\n",
        "        b_metric[it] = m_val\n",
        "\n",
        "    return b_metric"
      ],
      "metadata": {
        "id": "FOy_nA4GuXLJ"
      },
      "execution_count": 6,
      "outputs": []
    },
    {
      "cell_type": "code",
      "source": [
        "boot_scores = [bootstrap_metric(y_test, pred,\n",
        "                                metric_fn=lambda x, y: matthews_corrcoef(y_true=x, y_pred=y))\n",
        "               for pred in preds]\n",
        "\n",
        "alpha = 0.10\n",
        "names = ['DecisionTree', 'RandomForest', 'LightGBM', 'SVC', 'BaggingSVC']\n",
        "\n",
        "for i, name in enumerate(names):\n",
        "    print(\n",
        "        f\"Matthews correlation for the {name} model: \",\n",
        "        np.quantile(boot_scores[i], q=[alpha / 2, 1 - alpha / 2]),\n",
        "    )\n"
      ],
      "metadata": {
        "colab": {
          "base_uri": "https://localhost:8080/"
        },
        "id": "RNZDQRXavORp",
        "outputId": "273e7ad2-f835-4126-8cf6-ffde33606281"
      },
      "execution_count": 9,
      "outputs": [
        {
          "output_type": "stream",
          "name": "stdout",
          "text": [
            "Matthews correlation for the DecisionTree model:  [0.83061697 0.955936  ]\n",
            "Matthews correlation for the RandomForest model:  [0.88953352 0.98517822]\n",
            "Matthews correlation for the LightGBM model:  [0.82950665 0.95459809]\n",
            "Matthews correlation for the SVC model:  [0.83030554 0.95532067]\n",
            "Matthews correlation for the BaggingSVC model:  [0.83030554 0.95532067]\n"
          ]
        }
      ]
    },
    {
      "cell_type": "markdown",
      "source": [
        "По доверительным интервалам можно сделать вывод, что в данной задаче все модели, кроме RandomForest работают примерно с одинаковым качеством. RandomForest все же выделяется на фоне остальных моделей, доверительный интервал для его качества смещен на 0.06 вправо по отношению к доверительным интервалам для качеств всех остальных моделей."
      ],
      "metadata": {
        "id": "38u6XlNMxGvZ"
      }
    },
    {
      "cell_type": "code",
      "source": [
        "xticks = []\n",
        "for name in names:\n",
        "    xticks += [name] * 1000\n",
        "\n",
        "plt.figure(figsize=(16, 6))\n",
        "sns.boxplot(\n",
        "    y=np.concatenate(boot_scores),\n",
        "    x=xticks,\n",
        ")\n",
        "plt.ylabel(\"Matthews score\", size=20)\n",
        "plt.tick_params(axis=\"both\", which=\"major\", labelsize=14)\n",
        "plt.show()"
      ],
      "metadata": {
        "colab": {
          "base_uri": "https://localhost:8080/",
          "height": 437
        },
        "id": "Wcf-Ajqhxv4t",
        "outputId": "c7d62034-4a7d-4a07-cca6-4c602f91b3f3"
      },
      "execution_count": 12,
      "outputs": [
        {
          "output_type": "display_data",
          "data": {
            "text/plain": [
              "<Figure size 1600x600 with 1 Axes>"
            ],
            "image/png": "[encoded data removed]"
          },
          "metadata": {}
        }
      ]
    },
    {
      "cell_type": "markdown",
      "metadata": {
        "id": "XflQPXBA1dMc"
      },
      "source": [
        "Сделайте вывод о том, какие модели работают лучше.\n",
        "\n",
        "**Напишите вывод**"
      ]
    },
    {
      "cell_type": "markdown",
      "source": [
        "Видно, что RandomForest работает лучше, чем остальные модели."
      ],
      "metadata": {
        "id": "eZFTMBoP0TPL"
      }
    },
    {
      "cell_type": "markdown",
      "metadata": {
        "id": "9gHU-ak31dMd"
      },
      "source": [
        "## Формат результата"
      ]
    },
    {
      "cell_type": "markdown",
      "metadata": {
        "id": "K2BiE8o21dMd"
      },
      "source": [
        "График с демонстрацией корреляции Мэтьюса для следующих моделей:\n",
        "\n",
        " - `DecisionTreeClassifier`\n",
        " - `RandomForestClassifier`\n",
        " - `LigthGBMClassifier`\n",
        " - `SVC`\n",
        " - `BaggingClassifier` с базовым класификатором `SVC`\n",
        "\n",
        "Пример графика:"
      ]
    },
    {
      "cell_type": "markdown",
      "metadata": {
        "id": "bPr64iMd1dMd"
      },
      "source": [
        "<img src =\"https://edunet.kea.su/repo/EduNet-web_dependencies/dev-2.0/Exercises/EX03/result_1_task_ex03.png\" width=\"600\">"
      ]
    },
    {
      "cell_type": "markdown",
      "metadata": {
        "id": "b2RRWt421dMd"
      },
      "source": [
        "# Задание 2. Дисбаланс классов"
      ]
    },
    {
      "cell_type": "markdown",
      "metadata": {
        "id": "IDQ5hXt71dMd"
      },
      "source": [
        "Установка и импорт необходимых библиотек:"
      ]
    },
    {
      "cell_type": "code",
      "execution_count": 13,
      "metadata": {
        "id": "ktFRK6bg1dMd",
        "colab": {
          "base_uri": "https://localhost:8080/"
        },
        "outputId": "64839b27-66fd-4003-bc3c-bd2b69cf29fe"
      },
      "outputs": [
        {
          "output_type": "stream",
          "name": "stdout",
          "text": [
            "\u001b[?25l     \u001b[90m━━━━━━━━━━━━━━━━━━━━━━━━━━━━━━━━━━━━━━━━\u001b[0m \u001b[32m0.0/235.6 kB\u001b[0m \u001b[31m?\u001b[0m eta \u001b[36m-:--:--\u001b[0m\r\u001b[2K     \u001b[91m━━━━━━━━━━━━\u001b[0m\u001b[90m╺\u001b[0m\u001b[90m━━━━━━━━━━━━━━━━━━━━━━━━━━━\u001b[0m \u001b[32m71.7/235.6 kB\u001b[0m \u001b[31m1.9 MB/s\u001b[0m eta \u001b[36m0:00:01\u001b[0m\r\u001b[2K     \u001b[90m━━━━━━━━━━━━━━━━━━━━━━━━━━━━━━━━━━━━━━━━\u001b[0m \u001b[32m235.6/235.6 kB\u001b[0m \u001b[31m3.3 MB/s\u001b[0m eta \u001b[36m0:00:00\u001b[0m\n",
            "\u001b[?25h"
          ]
        }
      ],
      "source": [
        "!pip install -qU imbalanced-learn"
      ]
    },
    {
      "cell_type": "code",
      "execution_count": 14,
      "metadata": {
        "id": "KAhzu-pB1dMe"
      },
      "outputs": [],
      "source": [
        "import imblearn\n",
        "import numpy as np\n",
        "import pandas as pd\n",
        "import seaborn as sns\n",
        "import matplotlib.pyplot as plt\n",
        "\n",
        "from sklearn.ensemble import RandomForestClassifier\n",
        "from sklearn.metrics import accuracy_score, balanced_accuracy_score\n",
        "from sklearn.model_selection import (\n",
        "    train_test_split,\n",
        "    KFold,\n",
        "    StratifiedKFold,\n",
        "    cross_validate,\n",
        ")"
      ]
    },
    {
      "cell_type": "markdown",
      "metadata": {
        "id": "h2GMzxd51dMe"
      },
      "source": [
        "Важно обращать внимание на сбалансированность классов в наборе.\n",
        "Предположим, у нас есть некоторый набор данных со следующими метками классов:"
      ]
    },
    {
      "cell_type": "code",
      "execution_count": 15,
      "metadata": {
        "id": "isNBhs-P1dMe"
      },
      "outputs": [],
      "source": [
        "real_labels = [1, 0, 1, 0, 0, 0, 0, 1, 0, 0, 0, 0, 1, 0, 0, 1, 0, 0, 0, 0, 0]"
      ]
    },
    {
      "cell_type": "markdown",
      "metadata": {
        "id": "autb_Lkp1dMe"
      },
      "source": [
        "В наборе 16 объектов относятся к классу 0, а 5 — к классу 1.\n",
        "\n",
        "Мы обучили две модели. Первая всегда выдает 0:"
      ]
    },
    {
      "cell_type": "code",
      "execution_count": 16,
      "metadata": {
        "id": "CIBScU7b1dMe"
      },
      "outputs": [],
      "source": [
        "model1_res = [0, 0, 0, 0, 0, 0, 0, 0, 0, 0, 0, 0, 0, 0, 0, 0, 0, 0, 0, 0, 0]"
      ]
    },
    {
      "cell_type": "markdown",
      "metadata": {
        "id": "3Ps2z7Eu1dMe"
      },
      "source": [
        "Вторая сумела обнаружить некоторую закономерность в признаках:"
      ]
    },
    {
      "cell_type": "code",
      "execution_count": 17,
      "metadata": {
        "id": "drus3iH01dMe"
      },
      "outputs": [],
      "source": [
        "model2_res = [1, 0, 1, 1, 0, 0, 0, 0, 1, 0, 0, 0, 1, 0, 0, 1, 0, 0, 1, 0, 1]"
      ]
    },
    {
      "cell_type": "markdown",
      "metadata": {
        "id": "4ANVVvYO1dMe"
      },
      "source": [
        "Рассчитаем точность Accuracy (см. лекцию 1) для этих моделей:"
      ]
    },
    {
      "cell_type": "code",
      "execution_count": 18,
      "metadata": {
        "id": "JZlbLiTs1dMf",
        "colab": {
          "base_uri": "https://localhost:8080/"
        },
        "outputId": "3326106b-a1f9-4b03-8691-5b37d362a48e"
      },
      "outputs": [
        {
          "output_type": "stream",
          "name": "stdout",
          "text": [
            "Accuracy for model1:  0.7619047619047619\n",
            "Accuracy for model2:  0.7619047619047619\n"
          ]
        }
      ],
      "source": [
        "print(\"Accuracy for model1: \", accuracy_score(real_labels, model1_res))\n",
        "print(\"Accuracy for model2: \", accuracy_score(real_labels, model2_res))"
      ]
    },
    {
      "cell_type": "markdown",
      "metadata": {
        "id": "0CwuZBAU1dMf"
      },
      "source": [
        "Accuracy нельзя использовать, если данные не сбалансированы. Для несбалансированных данных необходимо использовать свои метрики и модели. Одной из таких метрик является balanced accuracy. При вычислении данной метрики считается полнота (recall) отдельно для каждого класса и вычисляется среднее значение:"
      ]
    },
    {
      "cell_type": "code",
      "execution_count": 19,
      "metadata": {
        "id": "9EL04Ruy1dMf",
        "colab": {
          "base_uri": "https://localhost:8080/"
        },
        "outputId": "071108d0-1e0a-4c0b-b37d-f06d899e4e02"
      },
      "outputs": [
        {
          "output_type": "stream",
          "name": "stdout",
          "text": [
            "Balanced accuracy for model1:  0.5\n",
            "Balanced accuracy for model2:  0.775\n"
          ]
        }
      ],
      "source": [
        "# Balanced accuracy for model1 = (16/16+0/5)/2 = 0.5\n",
        "print(\n",
        "    \"Balanced accuracy for model1: \", balanced_accuracy_score(real_labels, model1_res)\n",
        ")\n",
        "# Balanced accuracy for model2 = (12/16+4/5)/2 = 0.775\n",
        "print(\n",
        "    \"Balanced accuracy for model2: \", balanced_accuracy_score(real_labels, model2_res)\n",
        ")"
      ]
    },
    {
      "cell_type": "markdown",
      "metadata": {
        "id": "pisS8lW51dMf"
      },
      "source": [
        "**Всегда проверяйте**, являются ли ваши данные сбалансированными и могут ли выбранные для оценки модели метрики работать с несбалансированными классами."
      ]
    },
    {
      "cell_type": "markdown",
      "metadata": {
        "id": "lh-M-Ma31dMf"
      },
      "source": [
        "Загрузим датасет с различными биомаркерами пациентов с меланомой (обезличенный, информации о пациентах нет) и переменной, содержащей 1, если пациент ответил на иммунотерапию (терапия помогла пациенту и произошло уменьшение размеров опухоли), и 0, если не ответил. Количество пациентов, отвечающих на терапию, сильно меньше пациентов, которым терапия не помогает, поэтому предсказание ответа пациента на терапию на основании биомаркеров — актуальная задача в онкологии. В данном задании вам предстоит попробовать её решить."
      ]
    },
    {
      "cell_type": "code",
      "execution_count": 20,
      "metadata": {
        "id": "Lk--ZKjn1dMf",
        "colab": {
          "base_uri": "https://localhost:8080/",
          "height": 324
        },
        "outputId": "1f999f7d-61f7-404a-a2a5-4be7c223e34d"
      },
      "outputs": [
        {
          "output_type": "display_data",
          "data": {
            "text/plain": [
              "                  IgG1/IgA      IL21     CXCL9    CXCL10      CD8A      GZMB  \\\n",
              "sample_id                                                                      \n",
              "SAM4b0175e8db6e   3.242746  0.001280 -0.002986 -0.036366  0.096658  0.063467   \n",
              "SAMd215b503f99a   2.139016 -0.000089  0.030495  0.243958  0.161128  0.565798   \n",
              "SAM7fb6987514a4  12.614972  0.008103  0.502043  0.530783  0.388455  0.528142   \n",
              "SAMd636e3461955   6.365973 -0.000139  0.024035  0.115127  0.084455  0.200038   \n",
              "SAMc0da5d48686d   2.764089  0.006107  0.015533  0.135470  0.067686  0.053499   \n",
              "\n",
              "                    KLRC2     KLRC3     KLRC4      GNLY       TGFB1  Response  \n",
              "sample_id                                                                      \n",
              "SAM4b0175e8db6e  0.502058 -0.083862  0.053659  0.091930   61.934119         0  \n",
              "SAMd215b503f99a -0.203495 -0.026902 -0.035405  0.030125  103.265837         0  \n",
              "SAM7fb6987514a4 -0.156209  0.001147 -0.028690  0.260703   53.552817         0  \n",
              "SAMd636e3461955 -0.387373 -0.057837  0.045938  0.073192   80.837318         0  \n",
              "SAMc0da5d48686d -0.116040  0.063714  0.088201  0.082940  114.422926         0  "
            ],
            "text/html": [
              "\n",
              "  <div id=\"df-aa940ba3-1a5c-4bb4-a561-f4651f43c336\" class=\"colab-df-container\">\n",
              "    <div>\n",
              "<style scoped>\n",
              "    .dataframe tbody tr th:only-of-type {\n",
              "        vertical-align: middle;\n",
              "    }\n",
              "\n",
              "    .dataframe tbody tr th {\n",
              "        vertical-align: top;\n",
              "    }\n",
              "\n",
              "    .dataframe thead th {\n",
              "        text-align: right;\n",
              "    }\n",
              "</style>\n",
              "<table border=\"1\" class=\"dataframe\">\n",
              "  <thead>\n",
              "    <tr style=\"text-align: right;\">\n",
              "      <th></th>\n",
              "      <th>IgG1/IgA</th>\n",
              "      <th>IL21</th>\n",
              "      <th>CXCL9</th>\n",
              "      <th>CXCL10</th>\n",
              "      <th>CD8A</th>\n",
              "      <th>GZMB</th>\n",
              "      <th>KLRC2</th>\n",
              "      <th>KLRC3</th>\n",
              "      <th>KLRC4</th>\n",
              "      <th>GNLY</th>\n",
              "      <th>TGFB1</th>\n",
              "      <th>Response</th>\n",
              "    </tr>\n",
              "    <tr>\n",
              "      <th>sample_id</th>\n",
              "      <th></th>\n",
              "      <th></th>\n",
              "      <th></th>\n",
              "      <th></th>\n",
              "      <th></th>\n",
              "      <th></th>\n",
              "      <th></th>\n",
              "      <th></th>\n",
              "      <th></th>\n",
              "      <th></th>\n",
              "      <th></th>\n",
              "      <th></th>\n",
              "    </tr>\n",
              "  </thead>\n",
              "  <tbody>\n",
              "    <tr>\n",
              "      <th>SAM4b0175e8db6e</th>\n",
              "      <td>3.242746</td>\n",
              "      <td>0.001280</td>\n",
              "      <td>-0.002986</td>\n",
              "      <td>-0.036366</td>\n",
              "      <td>0.096658</td>\n",
              "      <td>0.063467</td>\n",
              "      <td>0.502058</td>\n",
              "      <td>-0.083862</td>\n",
              "      <td>0.053659</td>\n",
              "      <td>0.091930</td>\n",
              "      <td>61.934119</td>\n",
              "      <td>0</td>\n",
              "    </tr>\n",
              "    <tr>\n",
              "      <th>SAMd215b503f99a</th>\n",
              "      <td>2.139016</td>\n",
              "      <td>-0.000089</td>\n",
              "      <td>0.030495</td>\n",
              "      <td>0.243958</td>\n",
              "      <td>0.161128</td>\n",
              "      <td>0.565798</td>\n",
              "      <td>-0.203495</td>\n",
              "      <td>-0.026902</td>\n",
              "      <td>-0.035405</td>\n",
              "      <td>0.030125</td>\n",
              "      <td>103.265837</td>\n",
              "      <td>0</td>\n",
              "    </tr>\n",
              "    <tr>\n",
              "      <th>SAM7fb6987514a4</th>\n",
              "      <td>12.614972</td>\n",
              "      <td>0.008103</td>\n",
              "      <td>0.502043</td>\n",
              "      <td>0.530783</td>\n",
              "      <td>0.388455</td>\n",
              "      <td>0.528142</td>\n",
              "      <td>-0.156209</td>\n",
              "      <td>0.001147</td>\n",
              "      <td>-0.028690</td>\n",
              "      <td>0.260703</td>\n",
              "      <td>53.552817</td>\n",
              "      <td>0</td>\n",
              "    </tr>\n",
              "    <tr>\n",
              "      <th>SAMd636e3461955</th>\n",
              "      <td>6.365973</td>\n",
              "      <td>-0.000139</td>\n",
              "      <td>0.024035</td>\n",
              "      <td>0.115127</td>\n",
              "      <td>0.084455</td>\n",
              "      <td>0.200038</td>\n",
              "      <td>-0.387373</td>\n",
              "      <td>-0.057837</td>\n",
              "      <td>0.045938</td>\n",
              "      <td>0.073192</td>\n",
              "      <td>80.837318</td>\n",
              "      <td>0</td>\n",
              "    </tr>\n",
              "    <tr>\n",
              "      <th>SAMc0da5d48686d</th>\n",
              "      <td>2.764089</td>\n",
              "      <td>0.006107</td>\n",
              "      <td>0.015533</td>\n",
              "      <td>0.135470</td>\n",
              "      <td>0.067686</td>\n",
              "      <td>0.053499</td>\n",
              "      <td>-0.116040</td>\n",
              "      <td>0.063714</td>\n",
              "      <td>0.088201</td>\n",
              "      <td>0.082940</td>\n",
              "      <td>114.422926</td>\n",
              "      <td>0</td>\n",
              "    </tr>\n",
              "  </tbody>\n",
              "</table>\n",
              "</div>\n",
              "    <div class=\"colab-df-buttons\">\n",
              "\n",
              "  <div class=\"colab-df-container\">\n",
              "    <button class=\"colab-df-convert\" onclick=\"convertToInteractive('df-aa940ba3-1a5c-4bb4-a561-f4651f43c336')\"\n",
              "            title=\"Convert this dataframe to an interactive table.\"\n",
              "            style=\"display:none;\">\n",
              "\n",
              "  <svg xmlns=\"http://www.w3.org/2000/svg\" height=\"24px\" viewBox=\"0 -960 960 960\">\n",
              "    <path d=\"M120-120v-720h720v720H120Zm60-500h600v-160H180v160Zm220 220h160v-160H400v160Zm0 220h160v-160H400v160ZM180-400h160v-160H180v160Zm440 0h160v-160H620v160ZM180-180h160v-160H180v160Zm440 0h160v-160H620v160Z\"/>\n",
              "  </svg>\n",
              "    </button>\n",
              "\n",
              "  <style>\n",
              "    .colab-df-container {\n",
              "      display:flex;\n",
              "      gap: 12px;\n",
              "    }\n",
              "\n",
              "    .colab-df-convert {\n",
              "      background-color: #E8F0FE;\n",
              "      border: none;\n",
              "      border-radius: 50%;\n",
              "      cursor: pointer;\n",
              "      display: none;\n",
              "      fill: #1967D2;\n",
              "      height: 32px;\n",
              "      padding: 0 0 0 0;\n",
              "      width: 32px;\n",
              "    }\n",
              "\n",
              "    .colab-df-convert:hover {\n",
              "      background-color: #E2EBFA;\n",
              "      box-shadow: 0px 1px 2px rgba(60, 64, 67, 0.3), 0px 1px 3px 1px rgba(60, 64, 67, 0.15);\n",
              "      fill: #174EA6;\n",
              "    }\n",
              "\n",
              "    .colab-df-buttons div {\n",
              "      margin-bottom: 4px;\n",
              "    }\n",
              "\n",
              "    [theme=dark] .colab-df-convert {\n",
              "      background-color: #3B4455;\n",
              "      fill: #D2E3FC;\n",
              "    }\n",
              "\n",
              "    [theme=dark] .colab-df-convert:hover {\n",
              "      background-color: #434B5C;\n",
              "      box-shadow: 0px 1px 3px 1px rgba(0, 0, 0, 0.15);\n",
              "      filter: drop-shadow(0px 1px 2px rgba(0, 0, 0, 0.3));\n",
              "      fill: #FFFFFF;\n",
              "    }\n",
              "  </style>\n",
              "\n",
              "    <script>\n",
              "      const buttonEl =\n",
              "        document.querySelector('#df-aa940ba3-1a5c-4bb4-a561-f4651f43c336 button.colab-df-convert');\n",
              "      buttonEl.style.display =\n",
              "        google.colab.kernel.accessAllowed ? 'block' : 'none';\n",
              "\n",
              "      async function convertToInteractive(key) {\n",
              "        const element = document.querySelector('#df-aa940ba3-1a5c-4bb4-a561-f4651f43c336');\n",
              "        const dataTable =\n",
              "          await google.colab.kernel.invokeFunction('convertToInteractive',\n",
              "                                                    [key], {});\n",
              "        if (!dataTable) return;\n",
              "\n",
              "        const docLinkHtml = 'Like what you see? Visit the ' +\n",
              "          '<a target=\"_blank\" href=https://colab.research.google.com/notebooks/data_table.ipynb>data table notebook</a>'\n",
              "          + ' to learn more about interactive tables.';\n",
              "        element.innerHTML = '';\n",
              "        dataTable['output_type'] = 'display_data';\n",
              "        await google.colab.output.renderOutput(dataTable, element);\n",
              "        const docLink = document.createElement('div');\n",
              "        docLink.innerHTML = docLinkHtml;\n",
              "        element.appendChild(docLink);\n",
              "      }\n",
              "    </script>\n",
              "  </div>\n",
              "\n",
              "\n",
              "<div id=\"df-2d9dfce7-9fda-4db7-b8d6-8a4756e854f0\">\n",
              "  <button class=\"colab-df-quickchart\" onclick=\"quickchart('df-2d9dfce7-9fda-4db7-b8d6-8a4756e854f0')\"\n",
              "            title=\"Suggest charts.\"\n",
              "            style=\"display:none;\">\n",
              "\n",
              "<svg xmlns=\"http://www.w3.org/2000/svg\" height=\"24px\"viewBox=\"0 0 24 24\"\n",
              "     width=\"24px\">\n",
              "    <g>\n",
              "        <path d=\"M19 3H5c-1.1 0-2 .9-2 2v14c0 1.1.9 2 2 2h14c1.1 0 2-.9 2-2V5c0-1.1-.9-2-2-2zM9 17H7v-7h2v7zm4 0h-2V7h2v10zm4 0h-2v-4h2v4z\"/>\n",
              "    </g>\n",
              "</svg>\n",
              "  </button>\n",
              "\n",
              "<style>\n",
              "  .colab-df-quickchart {\n",
              "      --bg-color: #E8F0FE;\n",
              "      --fill-color: #1967D2;\n",
              "      --hover-bg-color: #E2EBFA;\n",
              "      --hover-fill-color: #174EA6;\n",
              "      --disabled-fill-color: #AAA;\n",
              "      --disabled-bg-color: #DDD;\n",
              "  }\n",
              "\n",
              "  [theme=dark] .colab-df-quickchart {\n",
              "      --bg-color: #3B4455;\n",
              "      --fill-color: #D2E3FC;\n",
              "      --hover-bg-color: #434B5C;\n",
              "      --hover-fill-color: #FFFFFF;\n",
              "      --disabled-bg-color: #3B4455;\n",
              "      --disabled-fill-color: #666;\n",
              "  }\n",
              "\n",
              "  .colab-df-quickchart {\n",
              "    background-color: var(--bg-color);\n",
              "    border: none;\n",
              "    border-radius: 50%;\n",
              "    cursor: pointer;\n",
              "    display: none;\n",
              "    fill: var(--fill-color);\n",
              "    height: 32px;\n",
              "    padding: 0;\n",
              "    width: 32px;\n",
              "  }\n",
              "\n",
              "  .colab-df-quickchart:hover {\n",
              "    background-color: var(--hover-bg-color);\n",
              "    box-shadow: 0 1px 2px rgba(60, 64, 67, 0.3), 0 1px 3px 1px rgba(60, 64, 67, 0.15);\n",
              "    fill: var(--button-hover-fill-color);\n",
              "  }\n",
              "\n",
              "  .colab-df-quickchart-complete:disabled,\n",
              "  .colab-df-quickchart-complete:disabled:hover {\n",
              "    background-color: var(--disabled-bg-color);\n",
              "    fill: var(--disabled-fill-color);\n",
              "    box-shadow: none;\n",
              "  }\n",
              "\n",
              "  .colab-df-spinner {\n",
              "    border: 2px solid var(--fill-color);\n",
              "    border-color: transparent;\n",
              "    border-bottom-color: var(--fill-color);\n",
              "    animation:\n",
              "      spin 1s steps(1) infinite;\n",
              "  }\n",
              "\n",
              "  @keyframes spin {\n",
              "    0% {\n",
              "      border-color: transparent;\n",
              "      border-bottom-color: var(--fill-color);\n",
              "      border-left-color: var(--fill-color);\n",
              "    }\n",
              "    20% {\n",
              "      border-color: transparent;\n",
              "      border-left-color: var(--fill-color);\n",
              "      border-top-color: var(--fill-color);\n",
              "    }\n",
              "    30% {\n",
              "      border-color: transparent;\n",
              "      border-left-color: var(--fill-color);\n",
              "      border-top-color: var(--fill-color);\n",
              "      border-right-color: var(--fill-color);\n",
              "    }\n",
              "    40% {\n",
              "      border-color: transparent;\n",
              "      border-right-color: var(--fill-color);\n",
              "      border-top-color: var(--fill-color);\n",
              "    }\n",
              "    60% {\n",
              "      border-color: transparent;\n",
              "      border-right-color: var(--fill-color);\n",
              "    }\n",
              "    80% {\n",
              "      border-color: transparent;\n",
              "      border-right-color: var(--fill-color);\n",
              "      border-bottom-color: var(--fill-color);\n",
              "    }\n",
              "    90% {\n",
              "      border-color: transparent;\n",
              "      border-bottom-color: var(--fill-color);\n",
              "    }\n",
              "  }\n",
              "</style>\n",
              "\n",
              "  <script>\n",
              "    async function quickchart(key) {\n",
              "      const quickchartButtonEl =\n",
              "        document.querySelector('#' + key + ' button');\n",
              "      quickchartButtonEl.disabled = true;  // To prevent multiple clicks.\n",
              "      quickchartButtonEl.classList.add('colab-df-spinner');\n",
              "      try {\n",
              "        const charts = await google.colab.kernel.invokeFunction(\n",
              "            'suggestCharts', [key], {});\n",
              "      } catch (error) {\n",
              "        console.error('Error during call to suggestCharts:', error);\n",
              "      }\n",
              "      quickchartButtonEl.classList.remove('colab-df-spinner');\n",
              "      quickchartButtonEl.classList.add('colab-df-quickchart-complete');\n",
              "    }\n",
              "    (() => {\n",
              "      let quickchartButtonEl =\n",
              "        document.querySelector('#df-2d9dfce7-9fda-4db7-b8d6-8a4756e854f0 button');\n",
              "      quickchartButtonEl.style.display =\n",
              "        google.colab.kernel.accessAllowed ? 'block' : 'none';\n",
              "    })();\n",
              "  </script>\n",
              "</div>\n",
              "    </div>\n",
              "  </div>\n"
            ]
          },
          "metadata": {}
        },
        {
          "output_type": "stream",
          "name": "stdout",
          "text": [
            "\n",
            "Number of patients responded to immunotherapy:\n"
          ]
        },
        {
          "output_type": "display_data",
          "data": {
            "text/plain": [
              "0    228\n",
              "1     37\n",
              "Name: Response, dtype: int64"
            ]
          },
          "metadata": {}
        }
      ],
      "source": [
        "cancer = pd.read_table(\n",
        "    \"https://edunet.kea.su/repo/EduNet-web_dependencies/datasets/Cancer_dataset_2.tsv\",\n",
        "    index_col=\"sample_id\",\n",
        ")\n",
        "display(cancer.head())\n",
        "\n",
        "# split the data on features (x) and dependant variable (y)\n",
        "y = cancer[\"Response\"]\n",
        "x = cancer.drop(\"Response\", axis=1)\n",
        "print(\"\\nNumber of patients responded to immunotherapy:\")\n",
        "display(y.value_counts())"
      ]
    },
    {
      "cell_type": "markdown",
      "metadata": {
        "id": "tPWTwBcJ1dMf"
      },
      "source": [
        "В данном случае имеет место несбалансированность классов в наборе данных: пациентов, ответивших на терапию, гораздо меньше.\n",
        "\n",
        "Есть два способа работы с несбалансированными по классам данными. Первый способ &mdash; это получение стратифицированных выборок. Необходимо иметь одинаковую долю образцов каждого класса в тренировочной и тестовой выборках, иначе возникает риск получения смещённых выборок, что приводит к некорректной оценке качества модели. Второй способ &mdash; это использование специальных алгоритмов, учитывающих несбалансированность классов.\n",
        "\n",
        "\n",
        "В данном задании вам нужно продемонстрировать эффективность различных подходов  работы с несбалансированными выборками. Для этого вы будете использовать три модели, представленные ниже:\n",
        "\n",
        "1. [`RandomForestClassifier`](https://scikit-learn.org/stable/modules/generated/sklearn.ensemble.RandomForestClassifier.html), библиотека sklearn\n",
        "2. [`RandomForestClassifier` с балансировкой классов](https://scikit-learn.org/stable/modules/generated/sklearn.ensemble.RandomForestClassifier.html), библиотека sklearn — меняет стандартный вес каждого класса, равный 1, на долю класса во входных данных (см. `class_weight`).\n",
        "3. [`BalancedRandomForestClassifier`](https://imbalanced-learn.org/stable/references/generated/imblearn.ensemble.BalancedRandomForestClassifier.html), библиотека imblearn — сэмплирует псевдовыборки таким образом, что в каждой псевдовыборке, которая подается на вход модели, баланс классов оказывается \"выправлен\".\n",
        "\n",
        "Оцените эффективность подходов с помощью кросс-валидации, производя разбиение с учетом репрезентации классов и без него. В качестве метрики, отображающей эффективность модели, используйте значения `accuracy` и `balanced_accuracy`. Проинтерпретируйте результаты."
      ]
    },
    {
      "cell_type": "code",
      "execution_count": 21,
      "metadata": {
        "id": "6_hzAOwP1dMf"
      },
      "outputs": [],
      "source": [
        "rfc = RandomForestClassifier()\n",
        "rfcb = RandomForestClassifier(class_weight='balanced')\n",
        "imbrfc = imblearn.ensemble.BalancedRandomForestClassifier()"
      ]
    },
    {
      "cell_type": "code",
      "execution_count": null,
      "metadata": {
        "id": "8YylE48K1dMg"
      },
      "outputs": [],
      "source": [
        "scoring = ('accuracy', 'balanced_accuracy')\n",
        "cv_results_rfc = [cross_validate(rfc, x, y, cv=KFold(shuffle=True), scoring=scoring),\n",
        "                  cross_validate(rfc, x, y, cv=StratifiedKFold(shuffle=True), scoring=scoring)]\n",
        "\n",
        "cv_results_rfcb = [cross_validate(rfcb, x, y, cv=KFold(shuffle=True), scoring=scoring),\n",
        "                  cross_validate(rfcb, x, y, cv=StratifiedKFold(shuffle=True), scoring=scoring)]\n",
        "\n",
        "cv_results_imbrfc = [cross_validate(imbrfc, x, y, cv=KFold(shuffle=True), scoring=scoring),\n",
        "                  cross_validate(imbrfc, x, y, cv=StratifiedKFold(shuffle=True), scoring=scoring)]\n"
      ]
    },
    {
      "cell_type": "code",
      "source": [
        "acc_kfold = []\n",
        "acc_stratified = []\n",
        "bal_acc__kfold = []\n",
        "bal_acc_stratified = []\n",
        "\n",
        "for res in (cv_results_rfc, cv_results_rfcb, cv_results_imbrfc):\n",
        "    acc_kfold.append(np.mean(res[0]['test_accuracy']))\n",
        "    acc_stratified.append(np.mean(res[1]['test_accuracy']))\n",
        "    bal_acc__kfold.append(np.mean(res[0]['test_balanced_accuracy']))\n",
        "    bal_acc_stratified.append(np.mean(res[1]['test_balanced_accuracy']))"
      ],
      "metadata": {
        "id": "drl_Y-kc5Wkn"
      },
      "execution_count": 25,
      "outputs": []
    },
    {
      "cell_type": "code",
      "source": [
        "scores = pd.DataFrame(columns=['RFC', 'RFC_bal', 'imb_RFC'])\n",
        "scores.loc['Acc_KFold'] = acc_kfold\n",
        "scores.loc['Acc_Strat'] = acc_stratified\n",
        "scores.loc['Bal_Acc_KFold'] = bal_acc__kfold\n",
        "scores.loc['Bal_Acc_Strat'] = bal_acc_stratified\n",
        "scores"
      ],
      "metadata": {
        "colab": {
          "base_uri": "https://localhost:8080/",
          "height": 175
        },
        "id": "dYZBs3pS63Re",
        "outputId": "9cf07629-a155-4787-f80e-b3ff8ba07790"
      },
      "execution_count": 31,
      "outputs": [
        {
          "output_type": "execute_result",
          "data": {
            "text/plain": [
              "                    RFC   RFC_bal   imb_RFC\n",
              "Acc_KFold      0.852830  0.860377  0.660377\n",
              "Acc_Strat      0.867925  0.864151  0.686792\n",
              "Bal_Acc_KFold  0.535186  0.529167  0.669655\n",
              "Bal_Acc_Strat  0.559405  0.545167  0.692222"
            ],
            "text/html": [
              "\n",
              "  <div id=\"df-3f45d4ba-0980-40ca-be7a-94d164b2253d\" class=\"colab-df-container\">\n",
              "    <div>\n",
              "<style scoped>\n",
              "    .dataframe tbody tr th:only-of-type {\n",
              "        vertical-align: middle;\n",
              "    }\n",
              "\n",
              "    .dataframe tbody tr th {\n",
              "        vertical-align: top;\n",
              "    }\n",
              "\n",
              "    .dataframe thead th {\n",
              "        text-align: right;\n",
              "    }\n",
              "</style>\n",
              "<table border=\"1\" class=\"dataframe\">\n",
              "  <thead>\n",
              "    <tr style=\"text-align: right;\">\n",
              "      <th></th>\n",
              "      <th>RFC</th>\n",
              "      <th>RFC_bal</th>\n",
              "      <th>imb_RFC</th>\n",
              "    </tr>\n",
              "  </thead>\n",
              "  <tbody>\n",
              "    <tr>\n",
              "      <th>Acc_KFold</th>\n",
              "      <td>0.852830</td>\n",
              "      <td>0.860377</td>\n",
              "      <td>0.660377</td>\n",
              "    </tr>\n",
              "    <tr>\n",
              "      <th>Acc_Strat</th>\n",
              "      <td>0.867925</td>\n",
              "      <td>0.864151</td>\n",
              "      <td>0.686792</td>\n",
              "    </tr>\n",
              "    <tr>\n",
              "      <th>Bal_Acc_KFold</th>\n",
              "      <td>0.535186</td>\n",
              "      <td>0.529167</td>\n",
              "      <td>0.669655</td>\n",
              "    </tr>\n",
              "    <tr>\n",
              "      <th>Bal_Acc_Strat</th>\n",
              "      <td>0.559405</td>\n",
              "      <td>0.545167</td>\n",
              "      <td>0.692222</td>\n",
              "    </tr>\n",
              "  </tbody>\n",
              "</table>\n",
              "</div>\n",
              "    <div class=\"colab-df-buttons\">\n",
              "\n",
              "  <div class=\"colab-df-container\">\n",
              "    <button class=\"colab-df-convert\" onclick=\"convertToInteractive('df-3f45d4ba-0980-40ca-be7a-94d164b2253d')\"\n",
              "            title=\"Convert this dataframe to an interactive table.\"\n",
              "            style=\"display:none;\">\n",
              "\n",
              "  <svg xmlns=\"http://www.w3.org/2000/svg\" height=\"24px\" viewBox=\"0 -960 960 960\">\n",
              "    <path d=\"M120-120v-720h720v720H120Zm60-500h600v-160H180v160Zm220 220h160v-160H400v160Zm0 220h160v-160H400v160ZM180-400h160v-160H180v160Zm440 0h160v-160H620v160ZM180-180h160v-160H180v160Zm440 0h160v-160H620v160Z\"/>\n",
              "  </svg>\n",
              "    </button>\n",
              "\n",
              "  <style>\n",
              "    .colab-df-container {\n",
              "      display:flex;\n",
              "      gap: 12px;\n",
              "    }\n",
              "\n",
              "    .colab-df-convert {\n",
              "      background-color: #E8F0FE;\n",
              "      border: none;\n",
              "      border-radius: 50%;\n",
              "      cursor: pointer;\n",
              "      display: none;\n",
              "      fill: #1967D2;\n",
              "      height: 32px;\n",
              "      padding: 0 0 0 0;\n",
              "      width: 32px;\n",
              "    }\n",
              "\n",
              "    .colab-df-convert:hover {\n",
              "      background-color: #E2EBFA;\n",
              "      box-shadow: 0px 1px 2px rgba(60, 64, 67, 0.3), 0px 1px 3px 1px rgba(60, 64, 67, 0.15);\n",
              "      fill: #174EA6;\n",
              "    }\n",
              "\n",
              "    .colab-df-buttons div {\n",
              "      margin-bottom: 4px;\n",
              "    }\n",
              "\n",
              "    [theme=dark] .colab-df-convert {\n",
              "      background-color: #3B4455;\n",
              "      fill: #D2E3FC;\n",
              "    }\n",
              "\n",
              "    [theme=dark] .colab-df-convert:hover {\n",
              "      background-color: #434B5C;\n",
              "      box-shadow: 0px 1px 3px 1px rgba(0, 0, 0, 0.15);\n",
              "      filter: drop-shadow(0px 1px 2px rgba(0, 0, 0, 0.3));\n",
              "      fill: #FFFFFF;\n",
              "    }\n",
              "  </style>\n",
              "\n",
              "    <script>\n",
              "      const buttonEl =\n",
              "        document.querySelector('#df-3f45d4ba-0980-40ca-be7a-94d164b2253d button.colab-df-convert');\n",
              "      buttonEl.style.display =\n",
              "        google.colab.kernel.accessAllowed ? 'block' : 'none';\n",
              "\n",
              "      async function convertToInteractive(key) {\n",
              "        const element = document.querySelector('#df-3f45d4ba-0980-40ca-be7a-94d164b2253d');\n",
              "        const dataTable =\n",
              "          await google.colab.kernel.invokeFunction('convertToInteractive',\n",
              "                                                    [key], {});\n",
              "        if (!dataTable) return;\n",
              "\n",
              "        const docLinkHtml = 'Like what you see? Visit the ' +\n",
              "          '<a target=\"_blank\" href=https://colab.research.google.com/notebooks/data_table.ipynb>data table notebook</a>'\n",
              "          + ' to learn more about interactive tables.';\n",
              "        element.innerHTML = '';\n",
              "        dataTable['output_type'] = 'display_data';\n",
              "        await google.colab.output.renderOutput(dataTable, element);\n",
              "        const docLink = document.createElement('div');\n",
              "        docLink.innerHTML = docLinkHtml;\n",
              "        element.appendChild(docLink);\n",
              "      }\n",
              "    </script>\n",
              "  </div>\n",
              "\n",
              "\n",
              "<div id=\"df-2ce6b3a6-21a0-4e52-83d0-b063778a0bf2\">\n",
              "  <button class=\"colab-df-quickchart\" onclick=\"quickchart('df-2ce6b3a6-21a0-4e52-83d0-b063778a0bf2')\"\n",
              "            title=\"Suggest charts.\"\n",
              "            style=\"display:none;\">\n",
              "\n",
              "<svg xmlns=\"http://www.w3.org/2000/svg\" height=\"24px\"viewBox=\"0 0 24 24\"\n",
              "     width=\"24px\">\n",
              "    <g>\n",
              "        <path d=\"M19 3H5c-1.1 0-2 .9-2 2v14c0 1.1.9 2 2 2h14c1.1 0 2-.9 2-2V5c0-1.1-.9-2-2-2zM9 17H7v-7h2v7zm4 0h-2V7h2v10zm4 0h-2v-4h2v4z\"/>\n",
              "    </g>\n",
              "</svg>\n",
              "  </button>\n",
              "\n",
              "<style>\n",
              "  .colab-df-quickchart {\n",
              "      --bg-color: #E8F0FE;\n",
              "      --fill-color: #1967D2;\n",
              "      --hover-bg-color: #E2EBFA;\n",
              "      --hover-fill-color: #174EA6;\n",
              "      --disabled-fill-color: #AAA;\n",
              "      --disabled-bg-color: #DDD;\n",
              "  }\n",
              "\n",
              "  [theme=dark] .colab-df-quickchart {\n",
              "      --bg-color: #3B4455;\n",
              "      --fill-color: #D2E3FC;\n",
              "      --hover-bg-color: #434B5C;\n",
              "      --hover-fill-color: #FFFFFF;\n",
              "      --disabled-bg-color: #3B4455;\n",
              "      --disabled-fill-color: #666;\n",
              "  }\n",
              "\n",
              "  .colab-df-quickchart {\n",
              "    background-color: var(--bg-color);\n",
              "    border: none;\n",
              "    border-radius: 50%;\n",
              "    cursor: pointer;\n",
              "    display: none;\n",
              "    fill: var(--fill-color);\n",
              "    height: 32px;\n",
              "    padding: 0;\n",
              "    width: 32px;\n",
              "  }\n",
              "\n",
              "  .colab-df-quickchart:hover {\n",
              "    background-color: var(--hover-bg-color);\n",
              "    box-shadow: 0 1px 2px rgba(60, 64, 67, 0.3), 0 1px 3px 1px rgba(60, 64, 67, 0.15);\n",
              "    fill: var(--button-hover-fill-color);\n",
              "  }\n",
              "\n",
              "  .colab-df-quickchart-complete:disabled,\n",
              "  .colab-df-quickchart-complete:disabled:hover {\n",
              "    background-color: var(--disabled-bg-color);\n",
              "    fill: var(--disabled-fill-color);\n",
              "    box-shadow: none;\n",
              "  }\n",
              "\n",
              "  .colab-df-spinner {\n",
              "    border: 2px solid var(--fill-color);\n",
              "    border-color: transparent;\n",
              "    border-bottom-color: var(--fill-color);\n",
              "    animation:\n",
              "      spin 1s steps(1) infinite;\n",
              "  }\n",
              "\n",
              "  @keyframes spin {\n",
              "    0% {\n",
              "      border-color: transparent;\n",
              "      border-bottom-color: var(--fill-color);\n",
              "      border-left-color: var(--fill-color);\n",
              "    }\n",
              "    20% {\n",
              "      border-color: transparent;\n",
              "      border-left-color: var(--fill-color);\n",
              "      border-top-color: var(--fill-color);\n",
              "    }\n",
              "    30% {\n",
              "      border-color: transparent;\n",
              "      border-left-color: var(--fill-color);\n",
              "      border-top-color: var(--fill-color);\n",
              "      border-right-color: var(--fill-color);\n",
              "    }\n",
              "    40% {\n",
              "      border-color: transparent;\n",
              "      border-right-color: var(--fill-color);\n",
              "      border-top-color: var(--fill-color);\n",
              "    }\n",
              "    60% {\n",
              "      border-color: transparent;\n",
              "      border-right-color: var(--fill-color);\n",
              "    }\n",
              "    80% {\n",
              "      border-color: transparent;\n",
              "      border-right-color: var(--fill-color);\n",
              "      border-bottom-color: var(--fill-color);\n",
              "    }\n",
              "    90% {\n",
              "      border-color: transparent;\n",
              "      border-bottom-color: var(--fill-color);\n",
              "    }\n",
              "  }\n",
              "</style>\n",
              "\n",
              "  <script>\n",
              "    async function quickchart(key) {\n",
              "      const quickchartButtonEl =\n",
              "        document.querySelector('#' + key + ' button');\n",
              "      quickchartButtonEl.disabled = true;  // To prevent multiple clicks.\n",
              "      quickchartButtonEl.classList.add('colab-df-spinner');\n",
              "      try {\n",
              "        const charts = await google.colab.kernel.invokeFunction(\n",
              "            'suggestCharts', [key], {});\n",
              "      } catch (error) {\n",
              "        console.error('Error during call to suggestCharts:', error);\n",
              "      }\n",
              "      quickchartButtonEl.classList.remove('colab-df-spinner');\n",
              "      quickchartButtonEl.classList.add('colab-df-quickchart-complete');\n",
              "    }\n",
              "    (() => {\n",
              "      let quickchartButtonEl =\n",
              "        document.querySelector('#df-2ce6b3a6-21a0-4e52-83d0-b063778a0bf2 button');\n",
              "      quickchartButtonEl.style.display =\n",
              "        google.colab.kernel.accessAllowed ? 'block' : 'none';\n",
              "    })();\n",
              "  </script>\n",
              "</div>\n",
              "    </div>\n",
              "  </div>\n"
            ]
          },
          "metadata": {},
          "execution_count": 31
        }
      ]
    },
    {
      "cell_type": "markdown",
      "metadata": {
        "id": "lKE-PQEm1dMg"
      },
      "source": [
        "Объекты, принадлежащие разным классам, распределены неравномерно. Для адекватной работы cross_validate нужно перемешать данные. Для этого используйте флаг `shuffle=True`, применяя `KFold` и `StratifiedKFold` (см. параметр `cv` в функции cross_validate)."
      ]
    },
    {
      "cell_type": "markdown",
      "metadata": {
        "id": "Q64mXnCg1dMg"
      },
      "source": [
        "Какая модель лучше справляется с дисбалансом классов?\n",
        "\n",
        "**Напишите вывод**"
      ]
    },
    {
      "cell_type": "markdown",
      "source": [
        "Модель BalancedRandomForestClassifier из библиотеки imblearn показывает качество balanced accuracy лучше двух других моделей, при этом это качество наилучшее при использовании стратифицированного разбиения."
      ],
      "metadata": {
        "id": "ChIgCmM59j5m"
      }
    },
    {
      "cell_type": "markdown",
      "metadata": {
        "id": "FgCGmLl51dMg"
      },
      "source": [
        "## Формат результата"
      ]
    },
    {
      "cell_type": "markdown",
      "metadata": {
        "id": "kg8xTSym1dMg"
      },
      "source": [
        "Получить значения `accuracy` и `balanced_accuracy`для моделей:\n",
        "1. `RandomForestClassifier`, библиотека sklearn;\n",
        "2. `RandomForestClassifier с балансировкой классов`, библиотека sklearn;\n",
        "3. `BalancedRandomForestClassifier`, библиотека imblearn.\n"
      ]
    },
    {
      "cell_type": "markdown",
      "metadata": {
        "id": "MJCBhqCC1dMg"
      },
      "source": [
        "# Задание 3. Разные типы бустингов"
      ]
    },
    {
      "cell_type": "markdown",
      "metadata": {
        "id": "TxbAeJza1dMg"
      },
      "source": [
        "В этом задании будем использовать датасет с рейтингом блюд по некоторым характеристикам.\n",
        "\n",
        "В некоторых реализациях градиентного бустинга есть возможность использовать другой метод обучения. Например, в XGB есть тип `dart`, а в lgbm — `goss`. Это позволяет составлять более эффективные ансамбли.\n",
        "\n",
        "Используя кросс-валидацию (используйте 3 фолда), обучите модели:\n",
        "* CatboostRegressor\n",
        "* XGBRegressor\n",
        "* LGBMRegressor\n",
        "\n",
        "Сохраните модель на каждом фолде и посчитайте `mse` для тестовой выборки, используя модель с каждого фолда. Получите предсказания всех 9 моделей на тестовой выборке и усредните их. Затем посчитайте `mse` для усредненных предсказаний.\n",
        "\n",
        "Напишите выводы о полученном качестве моделей."
      ]
    },
    {
      "cell_type": "markdown",
      "metadata": {
        "id": "sCN5tlkt1dMh"
      },
      "source": [
        "Установка и импорт необходимых библиотек:"
      ]
    },
    {
      "cell_type": "code",
      "execution_count": 32,
      "metadata": {
        "id": "P4Dm3aEK1dMh",
        "colab": {
          "base_uri": "https://localhost:8080/"
        },
        "outputId": "3b07d0c4-bfdb-4421-99bb-52da27329a45"
      },
      "outputs": [
        {
          "output_type": "stream",
          "name": "stdout",
          "text": [
            "\u001b[2K     \u001b[90m━━━━━━━━━━━━━━━━━━━━━━━━━━━━━━━━━━━━━━━━\u001b[0m \u001b[32m98.7/98.7 MB\u001b[0m \u001b[31m2.3 MB/s\u001b[0m eta \u001b[36m0:00:00\u001b[0m\n",
            "\u001b[?25h"
          ]
        }
      ],
      "source": [
        "!pip install -q catboost"
      ]
    },
    {
      "cell_type": "code",
      "execution_count": 33,
      "metadata": {
        "id": "kANjBSRn1dMh"
      },
      "outputs": [],
      "source": [
        "import xgboost\n",
        "import catboost\n",
        "import lightgbm\n",
        "import numpy as np\n",
        "import pandas as pd\n",
        "from sklearn.metrics import mean_squared_error as mse\n",
        "from sklearn.model_selection import train_test_split, KFold"
      ]
    },
    {
      "cell_type": "markdown",
      "metadata": {
        "id": "40qSBiBs1dMh"
      },
      "source": [
        "Загрузка датасета:"
      ]
    },
    {
      "cell_type": "code",
      "execution_count": 34,
      "metadata": {
        "id": "VjA5W1zE1dMi",
        "colab": {
          "base_uri": "https://localhost:8080/",
          "height": 424
        },
        "outputId": "f1bb95cf-e862-4908-bc1e-647227880a3f"
      },
      "outputs": [
        {
          "output_type": "execute_result",
          "data": {
            "text/plain": [
              "       calories  protein   fat  sodium  cakeweek  wasteless  rating\n",
              "0         426.0     30.0   7.0   559.0       0.0        0.0   2.500\n",
              "1         403.0     18.0  23.0  1439.0       0.0        0.0   4.375\n",
              "2         165.0      6.0   7.0   165.0       0.0        0.0   3.750\n",
              "3         547.0     20.0  32.0   452.0       0.0        0.0   3.125\n",
              "4         948.0     19.0  79.0  1042.0       0.0        0.0   4.375\n",
              "...         ...      ...   ...     ...       ...        ...     ...\n",
              "15859      28.0      2.0   2.0    64.0       0.0        0.0   3.125\n",
              "15860     671.0     22.0  28.0   583.0       0.0        0.0   4.375\n",
              "15861     563.0     31.0  38.0   652.0       0.0        0.0   4.375\n",
              "15862     631.0     45.0  24.0   517.0       0.0        0.0   4.375\n",
              "15863     560.0     73.0  10.0  3698.0       0.0        0.0   4.375\n",
              "\n",
              "[15864 rows x 7 columns]"
            ],
            "text/html": [
              "\n",
              "  <div id=\"df-a4759114-4f9c-49a1-9514-46133e01eab8\" class=\"colab-df-container\">\n",
              "    <div>\n",
              "<style scoped>\n",
              "    .dataframe tbody tr th:only-of-type {\n",
              "        vertical-align: middle;\n",
              "    }\n",
              "\n",
              "    .dataframe tbody tr th {\n",
              "        vertical-align: top;\n",
              "    }\n",
              "\n",
              "    .dataframe thead th {\n",
              "        text-align: right;\n",
              "    }\n",
              "</style>\n",
              "<table border=\"1\" class=\"dataframe\">\n",
              "  <thead>\n",
              "    <tr style=\"text-align: right;\">\n",
              "      <th></th>\n",
              "      <th>calories</th>\n",
              "      <th>protein</th>\n",
              "      <th>fat</th>\n",
              "      <th>sodium</th>\n",
              "      <th>cakeweek</th>\n",
              "      <th>wasteless</th>\n",
              "      <th>rating</th>\n",
              "    </tr>\n",
              "  </thead>\n",
              "  <tbody>\n",
              "    <tr>\n",
              "      <th>0</th>\n",
              "      <td>426.0</td>\n",
              "      <td>30.0</td>\n",
              "      <td>7.0</td>\n",
              "      <td>559.0</td>\n",
              "      <td>0.0</td>\n",
              "      <td>0.0</td>\n",
              "      <td>2.500</td>\n",
              "    </tr>\n",
              "    <tr>\n",
              "      <th>1</th>\n",
              "      <td>403.0</td>\n",
              "      <td>18.0</td>\n",
              "      <td>23.0</td>\n",
              "      <td>1439.0</td>\n",
              "      <td>0.0</td>\n",
              "      <td>0.0</td>\n",
              "      <td>4.375</td>\n",
              "    </tr>\n",
              "    <tr>\n",
              "      <th>2</th>\n",
              "      <td>165.0</td>\n",
              "      <td>6.0</td>\n",
              "      <td>7.0</td>\n",
              "      <td>165.0</td>\n",
              "      <td>0.0</td>\n",
              "      <td>0.0</td>\n",
              "      <td>3.750</td>\n",
              "    </tr>\n",
              "    <tr>\n",
              "      <th>3</th>\n",
              "      <td>547.0</td>\n",
              "      <td>20.0</td>\n",
              "      <td>32.0</td>\n",
              "      <td>452.0</td>\n",
              "      <td>0.0</td>\n",
              "      <td>0.0</td>\n",
              "      <td>3.125</td>\n",
              "    </tr>\n",
              "    <tr>\n",
              "      <th>4</th>\n",
              "      <td>948.0</td>\n",
              "      <td>19.0</td>\n",
              "      <td>79.0</td>\n",
              "      <td>1042.0</td>\n",
              "      <td>0.0</td>\n",
              "      <td>0.0</td>\n",
              "      <td>4.375</td>\n",
              "    </tr>\n",
              "    <tr>\n",
              "      <th>...</th>\n",
              "      <td>...</td>\n",
              "      <td>...</td>\n",
              "      <td>...</td>\n",
              "      <td>...</td>\n",
              "      <td>...</td>\n",
              "      <td>...</td>\n",
              "      <td>...</td>\n",
              "    </tr>\n",
              "    <tr>\n",
              "      <th>15859</th>\n",
              "      <td>28.0</td>\n",
              "      <td>2.0</td>\n",
              "      <td>2.0</td>\n",
              "      <td>64.0</td>\n",
              "      <td>0.0</td>\n",
              "      <td>0.0</td>\n",
              "      <td>3.125</td>\n",
              "    </tr>\n",
              "    <tr>\n",
              "      <th>15860</th>\n",
              "      <td>671.0</td>\n",
              "      <td>22.0</td>\n",
              "      <td>28.0</td>\n",
              "      <td>583.0</td>\n",
              "      <td>0.0</td>\n",
              "      <td>0.0</td>\n",
              "      <td>4.375</td>\n",
              "    </tr>\n",
              "    <tr>\n",
              "      <th>15861</th>\n",
              "      <td>563.0</td>\n",
              "      <td>31.0</td>\n",
              "      <td>38.0</td>\n",
              "      <td>652.0</td>\n",
              "      <td>0.0</td>\n",
              "      <td>0.0</td>\n",
              "      <td>4.375</td>\n",
              "    </tr>\n",
              "    <tr>\n",
              "      <th>15862</th>\n",
              "      <td>631.0</td>\n",
              "      <td>45.0</td>\n",
              "      <td>24.0</td>\n",
              "      <td>517.0</td>\n",
              "      <td>0.0</td>\n",
              "      <td>0.0</td>\n",
              "      <td>4.375</td>\n",
              "    </tr>\n",
              "    <tr>\n",
              "      <th>15863</th>\n",
              "      <td>560.0</td>\n",
              "      <td>73.0</td>\n",
              "      <td>10.0</td>\n",
              "      <td>3698.0</td>\n",
              "      <td>0.0</td>\n",
              "      <td>0.0</td>\n",
              "      <td>4.375</td>\n",
              "    </tr>\n",
              "  </tbody>\n",
              "</table>\n",
              "<p>15864 rows × 7 columns</p>\n",
              "</div>\n",
              "    <div class=\"colab-df-buttons\">\n",
              "\n",
              "  <div class=\"colab-df-container\">\n",
              "    <button class=\"colab-df-convert\" onclick=\"convertToInteractive('df-a4759114-4f9c-49a1-9514-46133e01eab8')\"\n",
              "            title=\"Convert this dataframe to an interactive table.\"\n",
              "            style=\"display:none;\">\n",
              "\n",
              "  <svg xmlns=\"http://www.w3.org/2000/svg\" height=\"24px\" viewBox=\"0 -960 960 960\">\n",
              "    <path d=\"M120-120v-720h720v720H120Zm60-500h600v-160H180v160Zm220 220h160v-160H400v160Zm0 220h160v-160H400v160ZM180-400h160v-160H180v160Zm440 0h160v-160H620v160ZM180-180h160v-160H180v160Zm440 0h160v-160H620v160Z\"/>\n",
              "  </svg>\n",
              "    </button>\n",
              "\n",
              "  <style>\n",
              "    .colab-df-container {\n",
              "      display:flex;\n",
              "      gap: 12px;\n",
              "    }\n",
              "\n",
              "    .colab-df-convert {\n",
              "      background-color: #E8F0FE;\n",
              "      border: none;\n",
              "      border-radius: 50%;\n",
              "      cursor: pointer;\n",
              "      display: none;\n",
              "      fill: #1967D2;\n",
              "      height: 32px;\n",
              "      padding: 0 0 0 0;\n",
              "      width: 32px;\n",
              "    }\n",
              "\n",
              "    .colab-df-convert:hover {\n",
              "      background-color: #E2EBFA;\n",
              "      box-shadow: 0px 1px 2px rgba(60, 64, 67, 0.3), 0px 1px 3px 1px rgba(60, 64, 67, 0.15);\n",
              "      fill: #174EA6;\n",
              "    }\n",
              "\n",
              "    .colab-df-buttons div {\n",
              "      margin-bottom: 4px;\n",
              "    }\n",
              "\n",
              "    [theme=dark] .colab-df-convert {\n",
              "      background-color: #3B4455;\n",
              "      fill: #D2E3FC;\n",
              "    }\n",
              "\n",
              "    [theme=dark] .colab-df-convert:hover {\n",
              "      background-color: #434B5C;\n",
              "      box-shadow: 0px 1px 3px 1px rgba(0, 0, 0, 0.15);\n",
              "      filter: drop-shadow(0px 1px 2px rgba(0, 0, 0, 0.3));\n",
              "      fill: #FFFFFF;\n",
              "    }\n",
              "  </style>\n",
              "\n",
              "    <script>\n",
              "      const buttonEl =\n",
              "        document.querySelector('#df-a4759114-4f9c-49a1-9514-46133e01eab8 button.colab-df-convert');\n",
              "      buttonEl.style.display =\n",
              "        google.colab.kernel.accessAllowed ? 'block' : 'none';\n",
              "\n",
              "      async function convertToInteractive(key) {\n",
              "        const element = document.querySelector('#df-a4759114-4f9c-49a1-9514-46133e01eab8');\n",
              "        const dataTable =\n",
              "          await google.colab.kernel.invokeFunction('convertToInteractive',\n",
              "                                                    [key], {});\n",
              "        if (!dataTable) return;\n",
              "\n",
              "        const docLinkHtml = 'Like what you see? Visit the ' +\n",
              "          '<a target=\"_blank\" href=https://colab.research.google.com/notebooks/data_table.ipynb>data table notebook</a>'\n",
              "          + ' to learn more about interactive tables.';\n",
              "        element.innerHTML = '';\n",
              "        dataTable['output_type'] = 'display_data';\n",
              "        await google.colab.output.renderOutput(dataTable, element);\n",
              "        const docLink = document.createElement('div');\n",
              "        docLink.innerHTML = docLinkHtml;\n",
              "        element.appendChild(docLink);\n",
              "      }\n",
              "    </script>\n",
              "  </div>\n",
              "\n",
              "\n",
              "<div id=\"df-7d654ed0-ed3c-47a9-ac59-cbfd88c3909e\">\n",
              "  <button class=\"colab-df-quickchart\" onclick=\"quickchart('df-7d654ed0-ed3c-47a9-ac59-cbfd88c3909e')\"\n",
              "            title=\"Suggest charts.\"\n",
              "            style=\"display:none;\">\n",
              "\n",
              "<svg xmlns=\"http://www.w3.org/2000/svg\" height=\"24px\"viewBox=\"0 0 24 24\"\n",
              "     width=\"24px\">\n",
              "    <g>\n",
              "        <path d=\"M19 3H5c-1.1 0-2 .9-2 2v14c0 1.1.9 2 2 2h14c1.1 0 2-.9 2-2V5c0-1.1-.9-2-2-2zM9 17H7v-7h2v7zm4 0h-2V7h2v10zm4 0h-2v-4h2v4z\"/>\n",
              "    </g>\n",
              "</svg>\n",
              "  </button>\n",
              "\n",
              "<style>\n",
              "  .colab-df-quickchart {\n",
              "      --bg-color: #E8F0FE;\n",
              "      --fill-color: #1967D2;\n",
              "      --hover-bg-color: #E2EBFA;\n",
              "      --hover-fill-color: #174EA6;\n",
              "      --disabled-fill-color: #AAA;\n",
              "      --disabled-bg-color: #DDD;\n",
              "  }\n",
              "\n",
              "  [theme=dark] .colab-df-quickchart {\n",
              "      --bg-color: #3B4455;\n",
              "      --fill-color: #D2E3FC;\n",
              "      --hover-bg-color: #434B5C;\n",
              "      --hover-fill-color: #FFFFFF;\n",
              "      --disabled-bg-color: #3B4455;\n",
              "      --disabled-fill-color: #666;\n",
              "  }\n",
              "\n",
              "  .colab-df-quickchart {\n",
              "    background-color: var(--bg-color);\n",
              "    border: none;\n",
              "    border-radius: 50%;\n",
              "    cursor: pointer;\n",
              "    display: none;\n",
              "    fill: var(--fill-color);\n",
              "    height: 32px;\n",
              "    padding: 0;\n",
              "    width: 32px;\n",
              "  }\n",
              "\n",
              "  .colab-df-quickchart:hover {\n",
              "    background-color: var(--hover-bg-color);\n",
              "    box-shadow: 0 1px 2px rgba(60, 64, 67, 0.3), 0 1px 3px 1px rgba(60, 64, 67, 0.15);\n",
              "    fill: var(--button-hover-fill-color);\n",
              "  }\n",
              "\n",
              "  .colab-df-quickchart-complete:disabled,\n",
              "  .colab-df-quickchart-complete:disabled:hover {\n",
              "    background-color: var(--disabled-bg-color);\n",
              "    fill: var(--disabled-fill-color);\n",
              "    box-shadow: none;\n",
              "  }\n",
              "\n",
              "  .colab-df-spinner {\n",
              "    border: 2px solid var(--fill-color);\n",
              "    border-color: transparent;\n",
              "    border-bottom-color: var(--fill-color);\n",
              "    animation:\n",
              "      spin 1s steps(1) infinite;\n",
              "  }\n",
              "\n",
              "  @keyframes spin {\n",
              "    0% {\n",
              "      border-color: transparent;\n",
              "      border-bottom-color: var(--fill-color);\n",
              "      border-left-color: var(--fill-color);\n",
              "    }\n",
              "    20% {\n",
              "      border-color: transparent;\n",
              "      border-left-color: var(--fill-color);\n",
              "      border-top-color: var(--fill-color);\n",
              "    }\n",
              "    30% {\n",
              "      border-color: transparent;\n",
              "      border-left-color: var(--fill-color);\n",
              "      border-top-color: var(--fill-color);\n",
              "      border-right-color: var(--fill-color);\n",
              "    }\n",
              "    40% {\n",
              "      border-color: transparent;\n",
              "      border-right-color: var(--fill-color);\n",
              "      border-top-color: var(--fill-color);\n",
              "    }\n",
              "    60% {\n",
              "      border-color: transparent;\n",
              "      border-right-color: var(--fill-color);\n",
              "    }\n",
              "    80% {\n",
              "      border-color: transparent;\n",
              "      border-right-color: var(--fill-color);\n",
              "      border-bottom-color: var(--fill-color);\n",
              "    }\n",
              "    90% {\n",
              "      border-color: transparent;\n",
              "      border-bottom-color: var(--fill-color);\n",
              "    }\n",
              "  }\n",
              "</style>\n",
              "\n",
              "  <script>\n",
              "    async function quickchart(key) {\n",
              "      const quickchartButtonEl =\n",
              "        document.querySelector('#' + key + ' button');\n",
              "      quickchartButtonEl.disabled = true;  // To prevent multiple clicks.\n",
              "      quickchartButtonEl.classList.add('colab-df-spinner');\n",
              "      try {\n",
              "        const charts = await google.colab.kernel.invokeFunction(\n",
              "            'suggestCharts', [key], {});\n",
              "      } catch (error) {\n",
              "        console.error('Error during call to suggestCharts:', error);\n",
              "      }\n",
              "      quickchartButtonEl.classList.remove('colab-df-spinner');\n",
              "      quickchartButtonEl.classList.add('colab-df-quickchart-complete');\n",
              "    }\n",
              "    (() => {\n",
              "      let quickchartButtonEl =\n",
              "        document.querySelector('#df-7d654ed0-ed3c-47a9-ac59-cbfd88c3909e button');\n",
              "      quickchartButtonEl.style.display =\n",
              "        google.colab.kernel.accessAllowed ? 'block' : 'none';\n",
              "    })();\n",
              "  </script>\n",
              "</div>\n",
              "    </div>\n",
              "  </div>\n"
            ]
          },
          "metadata": {},
          "execution_count": 34
        }
      ],
      "source": [
        "recipies = pd.read_csv(\n",
        "    \"https://edunet.kea.su/repo/EduNet-web_dependencies/datasets/recipes.csv\"\n",
        ")\n",
        "recipies"
      ]
    },
    {
      "cell_type": "code",
      "execution_count": 35,
      "metadata": {
        "id": "enlZZbwB1dMi"
      },
      "outputs": [],
      "source": [
        "y = recipies[\"rating\"]\n",
        "x = recipies.drop([\"rating\"], axis=1)\n",
        "\n",
        "x_train_all, x_test, y_train_all, y_test = train_test_split(\n",
        "    x.values, y.values, train_size=0.7, random_state=42\n",
        ")"
      ]
    },
    {
      "cell_type": "code",
      "execution_count": 36,
      "metadata": {
        "id": "Igew6aaQ1dMi"
      },
      "outputs": [],
      "source": [
        "kf = KFold(n_splits=3, random_state=42, shuffle=True)\n",
        "models = []\n",
        "\n",
        "for i, (train_index, test_index) in enumerate(kf.split(x_train_all)):\n",
        "    x_train, y_train = x_train_all[train_index], y_train_all[train_index]\n",
        "    xgb = xgboost.XGBRegressor(booster='dart', rate_drop=0.2, one_drop=1, verbosity=0)\n",
        "    lgbm = lightgbm.LGBMRegressor(data_sample_strategy='goss', top_rate=0.2, other_rate=0.1, verbosity=-1)\n",
        "    catbst = catboost.CatBoostRegressor(verbose=False)\n",
        "\n",
        "    xgb.fit(x_train, y_train)\n",
        "    lgbm.fit(x_train, y_train)\n",
        "    catbst.fit(x_train, y_train)\n",
        "\n",
        "    models += [xgb, lgbm, catbst]"
      ]
    },
    {
      "cell_type": "code",
      "source": [
        "preds = [model.predict(x_test) for model in models]\n",
        "mse_scores = [mse(y_test, pred) for pred in preds]"
      ],
      "metadata": {
        "id": "ulCcyVDvFIZa"
      },
      "execution_count": 39,
      "outputs": []
    },
    {
      "cell_type": "code",
      "source": [
        "print('XGB scores: ', ', '.join(map(str, mse_scores[::3])), f', mean={np.mean(mse_scores[::3])}')\n",
        "print('LGBM scores: ', ', '.join(map(str, mse_scores[1::3])), f', mean={np.mean(mse_scores[1::3])}')\n",
        "print('CatBoost scores: ', ', '.join(map(str, mse_scores[2::3])), f', mean={np.mean(mse_scores[2::3])}')"
      ],
      "metadata": {
        "colab": {
          "base_uri": "https://localhost:8080/"
        },
        "id": "9t-vKs_dF_uY",
        "outputId": "b555269a-8a0f-4579-875f-e6fa78498285"
      },
      "execution_count": 46,
      "outputs": [
        {
          "output_type": "stream",
          "name": "stdout",
          "text": [
            "XGB scores:  1.5543125000372546, 1.5716602572572507, 1.5521523765738354 , mean=1.5593750446227803\n",
            "LGBM scores:  1.610493311177405, 1.600718557352586, 1.5992510617506628 , mean=1.6034876434268845\n",
            "CatBoost scores:  1.5627819275715273, 1.5667554291281447, 1.5584688013584853 , mean=1.5626687193527191\n"
          ]
        }
      ]
    },
    {
      "cell_type": "markdown",
      "source": [
        "видно, что наименьшее значение mse получилось для xgboost."
      ],
      "metadata": {
        "id": "WAib4YfQHTp9"
      }
    },
    {
      "cell_type": "code",
      "source": [
        "np_preds = np.array(preds)"
      ],
      "metadata": {
        "id": "j9J0-GGfHuaK"
      },
      "execution_count": 58,
      "outputs": []
    },
    {
      "cell_type": "code",
      "source": [
        "avg_pred = np.mean(np_preds, axis=0)"
      ],
      "metadata": {
        "id": "FjXN5rvRH9hv"
      },
      "execution_count": 63,
      "outputs": []
    },
    {
      "cell_type": "code",
      "source": [
        "print(f'Averaged prediction score: {mse(y_test, avg_pred)}')"
      ],
      "metadata": {
        "colab": {
          "base_uri": "https://localhost:8080/"
        },
        "id": "TQFtaRFEIgv4",
        "outputId": "f9f55b90-8d7d-4176-85bd-86fb8eb2758a"
      },
      "execution_count": 65,
      "outputs": [
        {
          "output_type": "stream",
          "name": "stdout",
          "text": [
            "Averaged prediction score: 1.5250031956091585\n"
          ]
        }
      ]
    },
    {
      "cell_type": "markdown",
      "source": [
        "Видно, что простое усреднение ответов разных моделей дало небольшой прирост в качестве предсказания, уменьшив среднеквадратичную ошибку на 0.034."
      ],
      "metadata": {
        "id": "sNHuF7blL5AY"
      }
    },
    {
      "cell_type": "markdown",
      "metadata": {
        "id": "cIEeS36B1dMi"
      },
      "source": [
        "## Формат результата"
      ]
    },
    {
      "cell_type": "markdown",
      "metadata": {
        "id": "rd7yQrvc1dMi"
      },
      "source": [
        "Получить значения MSE для всех моделей и значение MSE, усреднив предсказания всех моделей. Написать вывод.\n"
      ]
    },
    {
      "cell_type": "markdown",
      "metadata": {
        "id": "ErZcx36Q1dMi"
      },
      "source": [
        "# Задание 4. Подбор гиперпараметров"
      ]
    },
    {
      "cell_type": "markdown",
      "metadata": {
        "id": "QCB-7Fq41dMi"
      },
      "source": [
        "В этом задании нужно подобрать параметры для бустинга `CatBoostRegressor`, используя библиотеку `optuna`. И улучшить результат по сравнению со стандартными параметрами.\n",
        "\n",
        "Список параметров для подбора:\n",
        "\n",
        "* `depth`\n",
        "* `iterations`\n",
        "* `learning_rate`\n",
        "* `colsample_bylevel`\n",
        "* `subsample`\n",
        "* `l2_leaf_reg`\n",
        "* `min_data_in_leaf`\n",
        "* `max_bin`\n",
        "* `random_strength`\n",
        "* `bootstrap_type`\n",
        "\n",
        "**Важно!** *Подбирать параметры нужно на валидационной выборке*"
      ]
    },
    {
      "cell_type": "markdown",
      "metadata": {
        "id": "dFZC1pgv1dMi"
      },
      "source": [
        "Установка и импорт необходимых библиотек:"
      ]
    },
    {
      "cell_type": "code",
      "execution_count": 66,
      "metadata": {
        "id": "-5mg0s9z1dMj",
        "colab": {
          "base_uri": "https://localhost:8080/"
        },
        "outputId": "52815f92-f592-42a5-f3f3-027d888741e1"
      },
      "outputs": [
        {
          "output_type": "stream",
          "name": "stdout",
          "text": [
            "\u001b[2K     \u001b[90m━━━━━━━━━━━━━━━━━━━━━━━━━━━━━━━━━━━━━━━━\u001b[0m \u001b[32m409.6/409.6 kB\u001b[0m \u001b[31m4.7 MB/s\u001b[0m eta \u001b[36m0:00:00\u001b[0m\n",
            "\u001b[2K     \u001b[90m━━━━━━━━━━━━━━━━━━━━━━━━━━━━━━━━━━━━━━━━\u001b[0m \u001b[32m226.8/226.8 kB\u001b[0m \u001b[31m8.2 MB/s\u001b[0m eta \u001b[36m0:00:00\u001b[0m\n",
            "\u001b[2K     \u001b[90m━━━━━━━━━━━━━━━━━━━━━━━━━━━━━━━━━━━━━━━━\u001b[0m \u001b[32m78.7/78.7 kB\u001b[0m \u001b[31m8.7 MB/s\u001b[0m eta \u001b[36m0:00:00\u001b[0m\n",
            "\u001b[?25h"
          ]
        }
      ],
      "source": [
        "!pip install -q catboost\n",
        "!pip install -q optuna"
      ]
    },
    {
      "cell_type": "code",
      "execution_count": 67,
      "metadata": {
        "id": "IenNMw2w1dMj"
      },
      "outputs": [],
      "source": [
        "import optuna\n",
        "import numpy as np\n",
        "import pandas as pd\n",
        "from catboost import CatBoostRegressor\n",
        "from optuna.samplers import RandomSampler\n",
        "from sklearn.metrics import mean_squared_error as mse\n",
        "from sklearn.model_selection import train_test_split, KFold"
      ]
    },
    {
      "cell_type": "markdown",
      "metadata": {
        "id": "H0BbNsIW1dMj"
      },
      "source": [
        "Загрузка датасета:"
      ]
    },
    {
      "cell_type": "code",
      "execution_count": 68,
      "metadata": {
        "id": "RM6s2Dhi1dMj"
      },
      "outputs": [],
      "source": [
        "recipies = pd.read_csv(\n",
        "    \"https://edunet.kea.su/repo/EduNet-web_dependencies/datasets/recipes.csv\"\n",
        ")"
      ]
    },
    {
      "cell_type": "code",
      "execution_count": 69,
      "metadata": {
        "id": "tONvGJmw1dMj"
      },
      "outputs": [],
      "source": [
        "y = recipies[\"rating\"]\n",
        "x = recipies.drop([\"rating\"], axis=1)\n",
        "\n",
        "x_train, x_test, y_train, y_test = train_test_split(\n",
        "    x.values, y.values, train_size=0.7, random_state=42\n",
        ")"
      ]
    },
    {
      "cell_type": "code",
      "execution_count": 70,
      "metadata": {
        "id": "zHWLWTf91dMj",
        "colab": {
          "base_uri": "https://localhost:8080/"
        },
        "outputId": "7d714f23-4115-48cf-9c81-80f1d67e9244"
      },
      "outputs": [
        {
          "output_type": "stream",
          "name": "stdout",
          "text": [
            "Learning rate set to 0.074308\n",
            "0:\tlearn: 1.2817437\ttest: 1.2774827\tbest: 1.2774827 (0)\ttotal: 9.72ms\tremaining: 9.71s\n",
            "Stopped by overfitting detector  (100 iterations wait)\n",
            "\n",
            "bestTest = 1.242760353\n",
            "bestIteration = 44\n",
            "\n",
            "Shrink model to first 45 iterations.\n",
            "\n",
            "mse_score before tuning:  1.5444532948674852\n"
          ]
        }
      ],
      "source": [
        "model = CatBoostRegressor(random_seed=42)\n",
        "\n",
        "model.fit(\n",
        "    x_train,\n",
        "    y_train,\n",
        "    eval_set=(x_test, y_test),\n",
        "    verbose=200,\n",
        "    use_best_model=True,\n",
        "    plot=False,\n",
        "    early_stopping_rounds=100,\n",
        ")\n",
        "\n",
        "print(\"\\nmse_score before tuning: \", mse(y_test, model.predict(x_test)))"
      ]
    },
    {
      "cell_type": "code",
      "source": [
        "def bootstrap_metric(x, y, metric_fn, samples_cnt=1000, random_state=42):\n",
        "    np.random.seed(random_state)\n",
        "    b_metric = np.zeros(samples_cnt)\n",
        "    for it in range(samples_cnt):\n",
        "        poses = np.random.choice(x.shape[0], size=x.shape[0], replace=True)\n",
        "\n",
        "        x_boot = x[poses]\n",
        "        y_boot = y[poses]\n",
        "        m_val = metric_fn(x_boot, y_boot)\n",
        "        b_metric[it] = m_val\n",
        "\n",
        "    return b_metric"
      ],
      "metadata": {
        "id": "4AIE2tcTLZR4"
      },
      "execution_count": 71,
      "outputs": []
    },
    {
      "cell_type": "code",
      "source": [
        "x_train_search, x_val, y_train_search, y_val = train_test_split(\n",
        "    x_train, y_train, train_size=0.6, random_state=42\n",
        ")"
      ],
      "metadata": {
        "id": "xD5NBmq3SRLl"
      },
      "execution_count": 72,
      "outputs": []
    },
    {
      "cell_type": "code",
      "execution_count": 75,
      "metadata": {
        "id": "Bs1s0zLB1dMj",
        "colab": {
          "base_uri": "https://localhost:8080/"
        },
        "outputId": "09af3774-76d5-46d8-afe6-59d2611b60e9"
      },
      "outputs": [
        {
          "output_type": "stream",
          "name": "stderr",
          "text": [
            "[I 2023-10-28 12:47:39,389] A new study created in memory with name: Optimizer\n",
            "[I 2023-10-28 12:47:42,525] Trial 0 finished with value: 2.0804118372307836 and parameters: {'depth': 6, 'iterations': 3000, 'learning_rate': 1, 'colsample_bylevel': 0.5, 'subsample': 0.8, 'bootstrap_type': 'Bernoulli', 'min_data_in_leaf': 8, 'l2_leaf_reg': 2, 'random_strength': 2.3682099526511076, 'max_bin': 16}. Best is trial 0 with value: 2.0804118372307836.\n",
            "[I 2023-10-28 12:47:43,431] Trial 1 finished with value: 1.531768940505674 and parameters: {'depth': 5, 'iterations': 500, 'learning_rate': 0.01, 'colsample_bylevel': 0.7, 'subsample': 0.4, 'bootstrap_type': 'Bernoulli', 'min_data_in_leaf': 14, 'l2_leaf_reg': 5, 'random_strength': 3.7656227050693505, 'max_bin': 254}. Best is trial 1 with value: 1.531768940505674.\n",
            "[I 2023-10-28 12:47:46,233] Trial 2 finished with value: 2.4235524165798052 and parameters: {'depth': 9, 'iterations': 1500, 'learning_rate': 1, 'colsample_bylevel': 0.5, 'subsample': 0.4, 'bootstrap_type': 'MVS', 'min_data_in_leaf': 12, 'l2_leaf_reg': 2, 'random_strength': 3.1888185350141924, 'max_bin': 32}. Best is trial 1 with value: 1.531768940505674.\n",
            "[I 2023-10-28 12:47:51,502] Trial 3 finished with value: 1.5153997694915078 and parameters: {'depth': 7, 'iterations': 2500, 'learning_rate': 0.01, 'colsample_bylevel': 0.5, 'subsample': 0.4, 'bootstrap_type': 'Bernoulli', 'min_data_in_leaf': 14, 'l2_leaf_reg': 7, 'random_strength': 1.5597101766581076, 'max_bin': 128}. Best is trial 3 with value: 1.5153997694915078.\n",
            "[I 2023-10-28 12:47:54,177] Trial 4 finished with value: 1.512318187538477 and parameters: {'depth': 6, 'iterations': 1500, 'learning_rate': 0.01, 'colsample_bylevel': 0.4, 'subsample': 0.6, 'bootstrap_type': 'MVS', 'min_data_in_leaf': 8, 'l2_leaf_reg': 7, 'random_strength': 1.1544362537499682, 'max_bin': 512}. Best is trial 4 with value: 1.512318187538477.\n",
            "[I 2023-10-28 12:47:56,538] Trial 5 finished with value: 1.5248047428600422 and parameters: {'depth': 6, 'iterations': 2500, 'learning_rate': 0.001, 'colsample_bylevel': 0.4, 'subsample': 0.6, 'bootstrap_type': 'Bernoulli', 'min_data_in_leaf': 12, 'l2_leaf_reg': 10, 'random_strength': 1.4125628324379798, 'max_bin': 64}. Best is trial 4 with value: 1.512318187538477.\n",
            "[I 2023-10-28 12:48:03,898] Trial 6 finished with value: 2.0248166121434257 and parameters: {'depth': 9, 'iterations': 2000, 'learning_rate': 0.5, 'colsample_bylevel': 0.5, 'subsample': 0.4, 'bootstrap_type': 'Bernoulli', 'min_data_in_leaf': 6, 'l2_leaf_reg': 5, 'random_strength': 2.6462013680997583, 'max_bin': 128}. Best is trial 4 with value: 1.512318187538477.\n",
            "[I 2023-10-28 12:48:06,205] Trial 7 finished with value: 1.5551451590802152 and parameters: {'depth': 8, 'iterations': 2000, 'learning_rate': 0.001, 'colsample_bylevel': 0.2, 'subsample': 0.6, 'bootstrap_type': 'MVS', 'min_data_in_leaf': 8, 'l2_leaf_reg': 10, 'random_strength': 3.861785731007762, 'max_bin': 512}. Best is trial 4 with value: 1.512318187538477.\n",
            "[I 2023-10-28 12:48:11,491] Trial 8 finished with value: 1.6675807632653745 and parameters: {'depth': 9, 'iterations': 3000, 'learning_rate': 0.03, 'colsample_bylevel': 1, 'subsample': 0.8, 'bootstrap_type': 'Bernoulli', 'min_data_in_leaf': 12, 'l2_leaf_reg': 10, 'random_strength': 3.601216955740311, 'max_bin': 16}. Best is trial 4 with value: 1.512318187538477.\n",
            "[I 2023-10-28 12:48:18,340] Trial 9 finished with value: 1.8232291276736994 and parameters: {'depth': 8, 'iterations': 3000, 'learning_rate': 0.1, 'colsample_bylevel': 1, 'subsample': 0.8, 'bootstrap_type': 'Bernoulli', 'min_data_in_leaf': 12, 'l2_leaf_reg': 10, 'random_strength': 2.9122897044946194, 'max_bin': 32}. Best is trial 4 with value: 1.512318187538477.\n",
            "[I 2023-10-28 12:48:19,170] Trial 10 finished with value: 1.5133842892283644 and parameters: {'depth': 7, 'iterations': 500, 'learning_rate': 0.01, 'colsample_bylevel': 0.5, 'subsample': 0.4, 'bootstrap_type': 'Bernoulli', 'min_data_in_leaf': 8, 'l2_leaf_reg': 5, 'random_strength': 1.1380079260652582, 'max_bin': 32}. Best is trial 4 with value: 1.512318187538477.\n",
            "[I 2023-10-28 12:48:20,313] Trial 11 finished with value: 1.5800678623773272 and parameters: {'depth': 7, 'iterations': 1000, 'learning_rate': 0.1, 'colsample_bylevel': 0.4, 'subsample': 0.4, 'bootstrap_type': 'Bernoulli', 'min_data_in_leaf': 8, 'l2_leaf_reg': 10, 'random_strength': 2.158307913402323, 'max_bin': 16}. Best is trial 4 with value: 1.512318187538477.\n",
            "[I 2023-10-28 12:48:23,994] Trial 12 finished with value: 1.5289885172220028 and parameters: {'depth': 5, 'iterations': 2500, 'learning_rate': 0.03, 'colsample_bylevel': 0.5, 'subsample': 0.8, 'bootstrap_type': 'MVS', 'min_data_in_leaf': 10, 'l2_leaf_reg': 10, 'random_strength': 3.5752382555290354, 'max_bin': 254}. Best is trial 4 with value: 1.512318187538477.\n",
            "[I 2023-10-28 12:48:25,013] Trial 13 finished with value: 1.5215707968280603 and parameters: {'depth': 9, 'iterations': 1000, 'learning_rate': 0.1, 'colsample_bylevel': 0.2, 'subsample': 0.8, 'bootstrap_type': 'Bernoulli', 'min_data_in_leaf': 6, 'l2_leaf_reg': 7, 'random_strength': 3.663112548274899, 'max_bin': 128}. Best is trial 4 with value: 1.512318187538477.\n",
            "[I 2023-10-28 12:48:30,879] Trial 14 finished with value: 2.1683814273207935 and parameters: {'depth': 5, 'iterations': 2500, 'learning_rate': 1, 'colsample_bylevel': 0.7, 'subsample': 0.8, 'bootstrap_type': 'Bernoulli', 'min_data_in_leaf': 14, 'l2_leaf_reg': 5, 'random_strength': 1.168909827045512, 'max_bin': 512}. Best is trial 4 with value: 1.512318187538477.\n",
            "[I 2023-10-28 12:48:32,424] Trial 15 finished with value: 1.7808010129496952 and parameters: {'depth': 6, 'iterations': 1000, 'learning_rate': 0.5, 'colsample_bylevel': 0.4, 'subsample': 0.8, 'bootstrap_type': 'MVS', 'min_data_in_leaf': 10, 'l2_leaf_reg': 10, 'random_strength': 3.670791351672749, 'max_bin': 32}. Best is trial 4 with value: 1.512318187538477.\n",
            "[I 2023-10-28 12:48:33,357] Trial 16 finished with value: 1.5174059079922635 and parameters: {'depth': 7, 'iterations': 500, 'learning_rate': 0.01, 'colsample_bylevel': 0.7, 'subsample': 0.8, 'bootstrap_type': 'Bernoulli', 'min_data_in_leaf': 6, 'l2_leaf_reg': 7, 'random_strength': 2.7823921460564054, 'max_bin': 32}. Best is trial 4 with value: 1.512318187538477.\n",
            "[I 2023-10-28 12:48:34,299] Trial 17 finished with value: 1.5158484139444208 and parameters: {'depth': 6, 'iterations': 500, 'learning_rate': 0.03, 'colsample_bylevel': 1, 'subsample': 0.8, 'bootstrap_type': 'Bernoulli', 'min_data_in_leaf': 6, 'l2_leaf_reg': 7, 'random_strength': 3.5565445009556202, 'max_bin': 64}. Best is trial 4 with value: 1.512318187538477.\n",
            "[I 2023-10-28 12:48:36,618] Trial 18 finished with value: 1.5294023587647012 and parameters: {'depth': 8, 'iterations': 2000, 'learning_rate': 0.001, 'colsample_bylevel': 0.4, 'subsample': 0.8, 'bootstrap_type': 'Bernoulli', 'min_data_in_leaf': 14, 'l2_leaf_reg': 10, 'random_strength': 2.4778542819786087, 'max_bin': 32}. Best is trial 4 with value: 1.512318187538477.\n",
            "[I 2023-10-28 12:48:37,584] Trial 19 finished with value: 1.539614667234655 and parameters: {'depth': 5, 'iterations': 500, 'learning_rate': 0.1, 'colsample_bylevel': 0.7, 'subsample': 0.8, 'bootstrap_type': 'MVS', 'min_data_in_leaf': 10, 'l2_leaf_reg': 7, 'random_strength': 1.2452770958466157, 'max_bin': 32}. Best is trial 4 with value: 1.512318187538477.\n",
            "[I 2023-10-28 12:48:39,043] Trial 20 finished with value: 1.899614237951827 and parameters: {'depth': 5, 'iterations': 1000, 'learning_rate': 1, 'colsample_bylevel': 0.5, 'subsample': 0.8, 'bootstrap_type': 'MVS', 'min_data_in_leaf': 8, 'l2_leaf_reg': 10, 'random_strength': 1.3592863954577536, 'max_bin': 16}. Best is trial 4 with value: 1.512318187538477.\n",
            "[I 2023-10-28 12:48:43,474] Trial 21 finished with value: 1.5344208994290216 and parameters: {'depth': 7, 'iterations': 2000, 'learning_rate': 0.001, 'colsample_bylevel': 0.4, 'subsample': 0.6, 'bootstrap_type': 'MVS', 'min_data_in_leaf': 6, 'l2_leaf_reg': 2, 'random_strength': 3.947135850725819, 'max_bin': 64}. Best is trial 4 with value: 1.512318187538477.\n",
            "[I 2023-10-28 12:48:46,474] Trial 22 finished with value: 1.5204124792354397 and parameters: {'depth': 5, 'iterations': 2500, 'learning_rate': 0.001, 'colsample_bylevel': 1, 'subsample': 0.6, 'bootstrap_type': 'MVS', 'min_data_in_leaf': 6, 'l2_leaf_reg': 10, 'random_strength': 1.967061534924169, 'max_bin': 16}. Best is trial 4 with value: 1.512318187538477.\n",
            "[I 2023-10-28 12:48:50,225] Trial 23 finished with value: 1.531488383663162 and parameters: {'depth': 7, 'iterations': 1500, 'learning_rate': 0.03, 'colsample_bylevel': 0.7, 'subsample': 0.4, 'bootstrap_type': 'MVS', 'min_data_in_leaf': 12, 'l2_leaf_reg': 7, 'random_strength': 3.4497983184147314, 'max_bin': 254}. Best is trial 4 with value: 1.512318187538477.\n",
            "[I 2023-10-28 12:48:54,499] Trial 24 finished with value: 2.0896578591330526 and parameters: {'depth': 6, 'iterations': 3000, 'learning_rate': 1, 'colsample_bylevel': 0.5, 'subsample': 0.4, 'bootstrap_type': 'Bernoulli', 'min_data_in_leaf': 12, 'l2_leaf_reg': 10, 'random_strength': 2.0262452461477225, 'max_bin': 64}. Best is trial 4 with value: 1.512318187538477.\n",
            "[I 2023-10-28 12:48:56,519] Trial 25 finished with value: 1.5609968259801226 and parameters: {'depth': 5, 'iterations': 1000, 'learning_rate': 0.001, 'colsample_bylevel': 0.4, 'subsample': 0.4, 'bootstrap_type': 'MVS', 'min_data_in_leaf': 6, 'l2_leaf_reg': 5, 'random_strength': 3.767498143531887, 'max_bin': 512}. Best is trial 4 with value: 1.512318187538477.\n",
            "[I 2023-10-28 12:48:58,934] Trial 26 finished with value: 1.5189815560699145 and parameters: {'depth': 9, 'iterations': 3000, 'learning_rate': 0.03, 'colsample_bylevel': 0.1, 'subsample': 0.4, 'bootstrap_type': 'MVS', 'min_data_in_leaf': 14, 'l2_leaf_reg': 7, 'random_strength': 1.6738144688199459, 'max_bin': 512}. Best is trial 4 with value: 1.512318187538477.\n",
            "[I 2023-10-28 12:49:01,320] Trial 27 finished with value: 1.8265379617570539 and parameters: {'depth': 6, 'iterations': 2000, 'learning_rate': 0.5, 'colsample_bylevel': 0.4, 'subsample': 0.8, 'bootstrap_type': 'Bernoulli', 'min_data_in_leaf': 6, 'l2_leaf_reg': 10, 'random_strength': 2.3598665042440827, 'max_bin': 128}. Best is trial 4 with value: 1.512318187538477.\n",
            "[I 2023-10-28 12:49:03,860] Trial 28 finished with value: 1.521031264772412 and parameters: {'depth': 9, 'iterations': 3000, 'learning_rate': 0.03, 'colsample_bylevel': 0.1, 'subsample': 0.8, 'bootstrap_type': 'MVS', 'min_data_in_leaf': 8, 'l2_leaf_reg': 10, 'random_strength': 3.4906595937009746, 'max_bin': 254}. Best is trial 4 with value: 1.512318187538477.\n",
            "[I 2023-10-28 12:49:06,071] Trial 29 finished with value: 1.765385175845791 and parameters: {'depth': 5, 'iterations': 1000, 'learning_rate': 0.5, 'colsample_bylevel': 1, 'subsample': 0.6, 'bootstrap_type': 'MVS', 'min_data_in_leaf': 12, 'l2_leaf_reg': 10, 'random_strength': 3.3995657678419455, 'max_bin': 254}. Best is trial 4 with value: 1.512318187538477.\n",
            "[I 2023-10-28 12:49:11,216] Trial 30 finished with value: 1.5283112772285703 and parameters: {'depth': 5, 'iterations': 3000, 'learning_rate': 0.001, 'colsample_bylevel': 1, 'subsample': 0.4, 'bootstrap_type': 'Bernoulli', 'min_data_in_leaf': 10, 'l2_leaf_reg': 10, 'random_strength': 2.2563115746762192, 'max_bin': 254}. Best is trial 4 with value: 1.512318187538477.\n",
            "[I 2023-10-28 12:49:13,287] Trial 31 finished with value: 1.5828324964561167 and parameters: {'depth': 8, 'iterations': 1000, 'learning_rate': 0.1, 'colsample_bylevel': 0.4, 'subsample': 0.6, 'bootstrap_type': 'MVS', 'min_data_in_leaf': 8, 'l2_leaf_reg': 2, 'random_strength': 2.4864739486185954, 'max_bin': 128}. Best is trial 4 with value: 1.512318187538477.\n",
            "[I 2023-10-28 12:49:16,302] Trial 32 finished with value: 1.8942916701408055 and parameters: {'depth': 6, 'iterations': 2000, 'learning_rate': 0.5, 'colsample_bylevel': 0.4, 'subsample': 0.6, 'bootstrap_type': 'Bernoulli', 'min_data_in_leaf': 14, 'l2_leaf_reg': 2, 'random_strength': 1.5417260353820006, 'max_bin': 512}. Best is trial 4 with value: 1.512318187538477.\n",
            "[I 2023-10-28 12:49:38,738] Trial 33 finished with value: 1.523853440918009 and parameters: {'depth': 9, 'iterations': 3000, 'learning_rate': 0.01, 'colsample_bylevel': 0.7, 'subsample': 0.4, 'bootstrap_type': 'MVS', 'min_data_in_leaf': 8, 'l2_leaf_reg': 5, 'random_strength': 1.073202344669614, 'max_bin': 254}. Best is trial 4 with value: 1.512318187538477.\n",
            "[I 2023-10-28 12:49:39,687] Trial 34 finished with value: 1.6120148410445776 and parameters: {'depth': 9, 'iterations': 1500, 'learning_rate': 1, 'colsample_bylevel': 0.1, 'subsample': 0.4, 'bootstrap_type': 'Bernoulli', 'min_data_in_leaf': 6, 'l2_leaf_reg': 2, 'random_strength': 1.6547616635951925, 'max_bin': 16}. Best is trial 4 with value: 1.512318187538477.\n",
            "[I 2023-10-28 12:49:42,825] Trial 35 finished with value: 1.5242896797230518 and parameters: {'depth': 7, 'iterations': 2000, 'learning_rate': 0.01, 'colsample_bylevel': 1, 'subsample': 0.8, 'bootstrap_type': 'MVS', 'min_data_in_leaf': 14, 'l2_leaf_reg': 7, 'random_strength': 1.4616877190195652, 'max_bin': 16}. Best is trial 4 with value: 1.512318187538477.\n",
            "[I 2023-10-28 12:49:45,655] Trial 36 finished with value: 1.524584471750422 and parameters: {'depth': 5, 'iterations': 3000, 'learning_rate': 0.1, 'colsample_bylevel': 0.1, 'subsample': 0.4, 'bootstrap_type': 'MVS', 'min_data_in_leaf': 6, 'l2_leaf_reg': 2, 'random_strength': 3.4740428977754476, 'max_bin': 254}. Best is trial 4 with value: 1.512318187538477.\n",
            "[I 2023-10-28 12:49:52,482] Trial 37 finished with value: 1.5311139264515836 and parameters: {'depth': 8, 'iterations': 3000, 'learning_rate': 0.001, 'colsample_bylevel': 0.4, 'subsample': 0.8, 'bootstrap_type': 'MVS', 'min_data_in_leaf': 14, 'l2_leaf_reg': 10, 'random_strength': 3.9435585340822703, 'max_bin': 254}. Best is trial 4 with value: 1.512318187538477.\n",
            "[I 2023-10-28 12:49:55,922] Trial 38 finished with value: 1.5208442372187903 and parameters: {'depth': 8, 'iterations': 2000, 'learning_rate': 0.001, 'colsample_bylevel': 0.5, 'subsample': 0.6, 'bootstrap_type': 'MVS', 'min_data_in_leaf': 14, 'l2_leaf_reg': 7, 'random_strength': 1.0663706545869918, 'max_bin': 64}. Best is trial 4 with value: 1.512318187538477.\n",
            "[I 2023-10-28 12:50:04,614] Trial 39 finished with value: 1.546412269944195 and parameters: {'depth': 9, 'iterations': 1500, 'learning_rate': 0.03, 'colsample_bylevel': 0.5, 'subsample': 0.4, 'bootstrap_type': 'Bernoulli', 'min_data_in_leaf': 14, 'l2_leaf_reg': 5, 'random_strength': 1.093402248653534, 'max_bin': 254}. Best is trial 4 with value: 1.512318187538477.\n",
            "[I 2023-10-28 12:50:06,063] Trial 40 finished with value: 1.5205586423174238 and parameters: {'depth': 9, 'iterations': 2500, 'learning_rate': 0.01, 'colsample_bylevel': 0.1, 'subsample': 0.4, 'bootstrap_type': 'Bernoulli', 'min_data_in_leaf': 10, 'l2_leaf_reg': 5, 'random_strength': 1.034861619724302, 'max_bin': 512}. Best is trial 4 with value: 1.512318187538477.\n",
            "[I 2023-10-28 12:50:22,016] Trial 41 finished with value: 1.8782313125166816 and parameters: {'depth': 9, 'iterations': 2500, 'learning_rate': 0.5, 'colsample_bylevel': 0.4, 'subsample': 0.4, 'bootstrap_type': 'MVS', 'min_data_in_leaf': 8, 'l2_leaf_reg': 10, 'random_strength': 1.6004507327344304, 'max_bin': 512}. Best is trial 4 with value: 1.512318187538477.\n",
            "[I 2023-10-28 12:50:24,367] Trial 42 finished with value: 1.512053098530945 and parameters: {'depth': 5, 'iterations': 2000, 'learning_rate': 0.01, 'colsample_bylevel': 0.2, 'subsample': 0.6, 'bootstrap_type': 'MVS', 'min_data_in_leaf': 6, 'l2_leaf_reg': 7, 'random_strength': 1.5463537470660977, 'max_bin': 16}. Best is trial 42 with value: 1.512053098530945.\n",
            "[I 2023-10-28 12:50:27,535] Trial 43 finished with value: 1.5230273181523575 and parameters: {'depth': 9, 'iterations': 3000, 'learning_rate': 0.03, 'colsample_bylevel': 0.2, 'subsample': 0.6, 'bootstrap_type': 'Bernoulli', 'min_data_in_leaf': 10, 'l2_leaf_reg': 10, 'random_strength': 2.2651627806203662, 'max_bin': 64}. Best is trial 42 with value: 1.512053098530945.\n",
            "[I 2023-10-28 12:50:29,315] Trial 44 finished with value: 1.7285022244225103 and parameters: {'depth': 8, 'iterations': 500, 'learning_rate': 0.5, 'colsample_bylevel': 0.5, 'subsample': 0.6, 'bootstrap_type': 'MVS', 'min_data_in_leaf': 8, 'l2_leaf_reg': 7, 'random_strength': 3.909463135235634, 'max_bin': 254}. Best is trial 42 with value: 1.512053098530945.\n",
            "[I 2023-10-28 12:50:36,132] Trial 45 finished with value: 1.5510831948526704 and parameters: {'depth': 9, 'iterations': 1500, 'learning_rate': 0.03, 'colsample_bylevel': 0.5, 'subsample': 0.4, 'bootstrap_type': 'Bernoulli', 'min_data_in_leaf': 10, 'l2_leaf_reg': 2, 'random_strength': 3.8016250525837147, 'max_bin': 254}. Best is trial 42 with value: 1.512053098530945.\n",
            "[I 2023-10-28 12:50:41,729] Trial 46 finished with value: 1.5144147903746852 and parameters: {'depth': 5, 'iterations': 3000, 'learning_rate': 0.01, 'colsample_bylevel': 0.5, 'subsample': 0.4, 'bootstrap_type': 'MVS', 'min_data_in_leaf': 6, 'l2_leaf_reg': 7, 'random_strength': 2.491524292025282, 'max_bin': 254}. Best is trial 42 with value: 1.512053098530945.\n",
            "[I 2023-10-28 12:50:43,168] Trial 47 finished with value: 1.7523221914293021 and parameters: {'depth': 8, 'iterations': 1000, 'learning_rate': 1, 'colsample_bylevel': 0.2, 'subsample': 0.6, 'bootstrap_type': 'MVS', 'min_data_in_leaf': 14, 'l2_leaf_reg': 10, 'random_strength': 1.3606271661118252, 'max_bin': 512}. Best is trial 42 with value: 1.512053098530945.\n",
            "[I 2023-10-28 12:50:45,974] Trial 48 finished with value: 2.095458153921026 and parameters: {'depth': 6, 'iterations': 1500, 'learning_rate': 1, 'colsample_bylevel': 0.5, 'subsample': 0.8, 'bootstrap_type': 'MVS', 'min_data_in_leaf': 10, 'l2_leaf_reg': 7, 'random_strength': 3.866571087864804, 'max_bin': 254}. Best is trial 42 with value: 1.512053098530945.\n",
            "[I 2023-10-28 12:50:46,769] Trial 49 finished with value: 1.5912397436296128 and parameters: {'depth': 9, 'iterations': 500, 'learning_rate': 0.001, 'colsample_bylevel': 0.2, 'subsample': 0.6, 'bootstrap_type': 'MVS', 'min_data_in_leaf': 6, 'l2_leaf_reg': 5, 'random_strength': 1.7696883511040913, 'max_bin': 16}. Best is trial 42 with value: 1.512053098530945.\n",
            "[I 2023-10-28 12:50:48,725] Trial 50 finished with value: 1.5132338660441638 and parameters: {'depth': 9, 'iterations': 2000, 'learning_rate': 0.01, 'colsample_bylevel': 0.2, 'subsample': 0.4, 'bootstrap_type': 'MVS', 'min_data_in_leaf': 10, 'l2_leaf_reg': 10, 'random_strength': 1.650219400272327, 'max_bin': 64}. Best is trial 42 with value: 1.512053098530945.\n",
            "[I 2023-10-28 12:50:53,444] Trial 51 finished with value: 1.5131309221013762 and parameters: {'depth': 6, 'iterations': 2000, 'learning_rate': 0.01, 'colsample_bylevel': 0.4, 'subsample': 0.4, 'bootstrap_type': 'MVS', 'min_data_in_leaf': 6, 'l2_leaf_reg': 7, 'random_strength': 2.557179372724811, 'max_bin': 254}. Best is trial 42 with value: 1.512053098530945.\n",
            "[I 2023-10-28 12:50:55,061] Trial 52 finished with value: 1.527867550432735 and parameters: {'depth': 7, 'iterations': 1000, 'learning_rate': 0.03, 'colsample_bylevel': 0.5, 'subsample': 0.6, 'bootstrap_type': 'MVS', 'min_data_in_leaf': 8, 'l2_leaf_reg': 7, 'random_strength': 2.1979477474279245, 'max_bin': 32}. Best is trial 42 with value: 1.512053098530945.\n",
            "[I 2023-10-28 12:50:56,495] Trial 53 finished with value: 1.5107102366052687 and parameters: {'depth': 8, 'iterations': 500, 'learning_rate': 0.03, 'colsample_bylevel': 0.7, 'subsample': 0.8, 'bootstrap_type': 'Bernoulli', 'min_data_in_leaf': 14, 'l2_leaf_reg': 5, 'random_strength': 3.7917856439317488, 'max_bin': 128}. Best is trial 53 with value: 1.5107102366052687.\n",
            "[I 2023-10-28 12:50:58,215] Trial 54 finished with value: 2.222462468137717 and parameters: {'depth': 8, 'iterations': 1000, 'learning_rate': 1, 'colsample_bylevel': 0.7, 'subsample': 0.6, 'bootstrap_type': 'Bernoulli', 'min_data_in_leaf': 6, 'l2_leaf_reg': 2, 'random_strength': 3.8893453347675218, 'max_bin': 32}. Best is trial 53 with value: 1.5107102366052687.\n",
            "[I 2023-10-28 12:51:00,576] Trial 55 finished with value: 1.9723975641538907 and parameters: {'depth': 5, 'iterations': 2000, 'learning_rate': 1, 'colsample_bylevel': 0.4, 'subsample': 0.4, 'bootstrap_type': 'Bernoulli', 'min_data_in_leaf': 12, 'l2_leaf_reg': 7, 'random_strength': 2.8456583146930328, 'max_bin': 512}. Best is trial 53 with value: 1.5107102366052687.\n",
            "[I 2023-10-28 12:51:02,095] Trial 56 finished with value: 1.5431944795023869 and parameters: {'depth': 7, 'iterations': 1000, 'learning_rate': 0.03, 'colsample_bylevel': 0.7, 'subsample': 0.4, 'bootstrap_type': 'MVS', 'min_data_in_leaf': 14, 'l2_leaf_reg': 2, 'random_strength': 2.3631320036798824, 'max_bin': 16}. Best is trial 53 with value: 1.5107102366052687.\n",
            "[I 2023-10-28 12:51:07,822] Trial 57 finished with value: 1.9701975624278967 and parameters: {'depth': 7, 'iterations': 1500, 'learning_rate': 0.5, 'colsample_bylevel': 0.7, 'subsample': 0.4, 'bootstrap_type': 'MVS', 'min_data_in_leaf': 12, 'l2_leaf_reg': 2, 'random_strength': 3.2123013061644565, 'max_bin': 254}. Best is trial 53 with value: 1.5107102366052687.\n",
            "[I 2023-10-28 12:51:08,772] Trial 58 finished with value: 1.5796736562062033 and parameters: {'depth': 5, 'iterations': 500, 'learning_rate': 0.001, 'colsample_bylevel': 1, 'subsample': 0.4, 'bootstrap_type': 'Bernoulli', 'min_data_in_leaf': 12, 'l2_leaf_reg': 2, 'random_strength': 2.8450389041166, 'max_bin': 254}. Best is trial 53 with value: 1.5107102366052687.\n",
            "[I 2023-10-28 12:51:11,493] Trial 59 finished with value: 1.5589481895130861 and parameters: {'depth': 6, 'iterations': 3000, 'learning_rate': 0.1, 'colsample_bylevel': 0.2, 'subsample': 0.6, 'bootstrap_type': 'MVS', 'min_data_in_leaf': 14, 'l2_leaf_reg': 10, 'random_strength': 3.539543016070834, 'max_bin': 16}. Best is trial 53 with value: 1.5107102366052687.\n",
            "[I 2023-10-28 12:51:21,123] Trial 60 finished with value: 1.5750001722091056 and parameters: {'depth': 8, 'iterations': 2000, 'learning_rate': 0.03, 'colsample_bylevel': 1, 'subsample': 0.4, 'bootstrap_type': 'Bernoulli', 'min_data_in_leaf': 10, 'l2_leaf_reg': 5, 'random_strength': 1.480214904863719, 'max_bin': 254}. Best is trial 53 with value: 1.5107102366052687.\n",
            "[I 2023-10-28 12:51:22,463] Trial 61 finished with value: 1.5120215799960721 and parameters: {'depth': 7, 'iterations': 2500, 'learning_rate': 0.03, 'colsample_bylevel': 0.1, 'subsample': 0.6, 'bootstrap_type': 'Bernoulli', 'min_data_in_leaf': 8, 'l2_leaf_reg': 5, 'random_strength': 3.166212814608211, 'max_bin': 16}. Best is trial 53 with value: 1.5107102366052687.\n",
            "[I 2023-10-28 12:51:31,556] Trial 62 finished with value: 1.5338006165115998 and parameters: {'depth': 8, 'iterations': 1500, 'learning_rate': 0.001, 'colsample_bylevel': 1, 'subsample': 0.6, 'bootstrap_type': 'Bernoulli', 'min_data_in_leaf': 8, 'l2_leaf_reg': 7, 'random_strength': 2.320596993866472, 'max_bin': 512}. Best is trial 53 with value: 1.5107102366052687.\n",
            "[I 2023-10-28 12:51:34,118] Trial 63 finished with value: 1.5336065280516402 and parameters: {'depth': 8, 'iterations': 3000, 'learning_rate': 0.001, 'colsample_bylevel': 0.2, 'subsample': 0.4, 'bootstrap_type': 'MVS', 'min_data_in_leaf': 8, 'l2_leaf_reg': 7, 'random_strength': 2.288970438216805, 'max_bin': 16}. Best is trial 53 with value: 1.5107102366052687.\n",
            "[I 2023-10-28 12:51:35,125] Trial 64 finished with value: 1.6773338687473884 and parameters: {'depth': 5, 'iterations': 500, 'learning_rate': 0.5, 'colsample_bylevel': 0.7, 'subsample': 0.6, 'bootstrap_type': 'MVS', 'min_data_in_leaf': 8, 'l2_leaf_reg': 10, 'random_strength': 1.1960984726931558, 'max_bin': 128}. Best is trial 53 with value: 1.5107102366052687.\n",
            "[I 2023-10-28 12:51:38,908] Trial 65 finished with value: 1.6095390132046832 and parameters: {'depth': 7, 'iterations': 1500, 'learning_rate': 0.1, 'colsample_bylevel': 0.7, 'subsample': 0.4, 'bootstrap_type': 'MVS', 'min_data_in_leaf': 12, 'l2_leaf_reg': 2, 'random_strength': 1.7528999840208939, 'max_bin': 254}. Best is trial 53 with value: 1.5107102366052687.\n",
            "[I 2023-10-28 12:51:40,311] Trial 66 finished with value: 1.629624706458514 and parameters: {'depth': 5, 'iterations': 2500, 'learning_rate': 1, 'colsample_bylevel': 0.1, 'subsample': 0.8, 'bootstrap_type': 'Bernoulli', 'min_data_in_leaf': 12, 'l2_leaf_reg': 10, 'random_strength': 3.270254517065905, 'max_bin': 128}. Best is trial 53 with value: 1.5107102366052687.\n",
            "[I 2023-10-28 12:51:49,473] Trial 67 finished with value: 1.9325929719059536 and parameters: {'depth': 7, 'iterations': 3000, 'learning_rate': 0.5, 'colsample_bylevel': 0.5, 'subsample': 0.4, 'bootstrap_type': 'MVS', 'min_data_in_leaf': 10, 'l2_leaf_reg': 10, 'random_strength': 2.5990866017384198, 'max_bin': 512}. Best is trial 53 with value: 1.5107102366052687.\n",
            "[I 2023-10-28 12:51:52,864] Trial 68 finished with value: 1.720891566561949 and parameters: {'depth': 6, 'iterations': 3000, 'learning_rate': 0.1, 'colsample_bylevel': 0.5, 'subsample': 0.8, 'bootstrap_type': 'Bernoulli', 'min_data_in_leaf': 6, 'l2_leaf_reg': 2, 'random_strength': 2.679267050915148, 'max_bin': 64}. Best is trial 53 with value: 1.5107102366052687.\n",
            "[I 2023-10-28 12:51:58,444] Trial 69 finished with value: 2.1190129261305555 and parameters: {'depth': 9, 'iterations': 2500, 'learning_rate': 0.5, 'colsample_bylevel': 0.4, 'subsample': 0.4, 'bootstrap_type': 'MVS', 'min_data_in_leaf': 10, 'l2_leaf_reg': 2, 'random_strength': 3.52434265925428, 'max_bin': 32}. Best is trial 53 with value: 1.5107102366052687.\n",
            "[I 2023-10-28 12:51:59,199] Trial 70 finished with value: 1.5378048835429103 and parameters: {'depth': 8, 'iterations': 500, 'learning_rate': 0.01, 'colsample_bylevel': 0.1, 'subsample': 0.6, 'bootstrap_type': 'MVS', 'min_data_in_leaf': 12, 'l2_leaf_reg': 5, 'random_strength': 1.3329684076404433, 'max_bin': 512}. Best is trial 53 with value: 1.5107102366052687.\n",
            "[I 2023-10-28 12:52:01,272] Trial 71 finished with value: 1.5237065725444199 and parameters: {'depth': 5, 'iterations': 1500, 'learning_rate': 0.03, 'colsample_bylevel': 0.7, 'subsample': 0.6, 'bootstrap_type': 'Bernoulli', 'min_data_in_leaf': 12, 'l2_leaf_reg': 2, 'random_strength': 2.4063038963935175, 'max_bin': 254}. Best is trial 53 with value: 1.5107102366052687.\n",
            "[I 2023-10-28 12:52:28,133] Trial 72 finished with value: 1.5791083168732352 and parameters: {'depth': 9, 'iterations': 3000, 'learning_rate': 0.03, 'colsample_bylevel': 0.5, 'subsample': 0.6, 'bootstrap_type': 'Bernoulli', 'min_data_in_leaf': 14, 'l2_leaf_reg': 7, 'random_strength': 2.552339055265124, 'max_bin': 512}. Best is trial 53 with value: 1.5107102366052687.\n",
            "[I 2023-10-28 12:52:31,231] Trial 73 finished with value: 1.5505412159074734 and parameters: {'depth': 7, 'iterations': 2000, 'learning_rate': 0.03, 'colsample_bylevel': 0.5, 'subsample': 0.6, 'bootstrap_type': 'MVS', 'min_data_in_leaf': 10, 'l2_leaf_reg': 10, 'random_strength': 1.9940410213091524, 'max_bin': 64}. Best is trial 53 with value: 1.5107102366052687.\n",
            "[I 2023-10-28 12:52:32,022] Trial 74 finished with value: 1.717150358141535 and parameters: {'depth': 5, 'iterations': 500, 'learning_rate': 0.5, 'colsample_bylevel': 0.4, 'subsample': 0.8, 'bootstrap_type': 'Bernoulli', 'min_data_in_leaf': 12, 'l2_leaf_reg': 2, 'random_strength': 2.265484535616494, 'max_bin': 32}. Best is trial 53 with value: 1.5107102366052687.\n",
            "[I 2023-10-28 12:52:34,777] Trial 75 finished with value: 1.5191181057107406 and parameters: {'depth': 9, 'iterations': 2500, 'learning_rate': 0.01, 'colsample_bylevel': 0.1, 'subsample': 0.6, 'bootstrap_type': 'MVS', 'min_data_in_leaf': 14, 'l2_leaf_reg': 5, 'random_strength': 1.0303935520832301, 'max_bin': 32}. Best is trial 53 with value: 1.5107102366052687.\n",
            "[I 2023-10-28 12:52:37,085] Trial 76 finished with value: 1.5688716933057274 and parameters: {'depth': 9, 'iterations': 500, 'learning_rate': 0.001, 'colsample_bylevel': 1, 'subsample': 0.6, 'bootstrap_type': 'MVS', 'min_data_in_leaf': 8, 'l2_leaf_reg': 10, 'random_strength': 3.467267121004835, 'max_bin': 32}. Best is trial 53 with value: 1.5107102366052687.\n",
            "[I 2023-10-28 12:52:42,025] Trial 77 finished with value: 2.280496046529201 and parameters: {'depth': 8, 'iterations': 2500, 'learning_rate': 1, 'colsample_bylevel': 0.5, 'subsample': 0.6, 'bootstrap_type': 'Bernoulli', 'min_data_in_leaf': 8, 'l2_leaf_reg': 5, 'random_strength': 1.4216589027350823, 'max_bin': 128}. Best is trial 53 with value: 1.5107102366052687.\n",
            "[I 2023-10-28 12:52:43,125] Trial 78 finished with value: 1.6577333691039613 and parameters: {'depth': 5, 'iterations': 1500, 'learning_rate': 1, 'colsample_bylevel': 0.2, 'subsample': 0.4, 'bootstrap_type': 'Bernoulli', 'min_data_in_leaf': 8, 'l2_leaf_reg': 7, 'random_strength': 3.28570543781461, 'max_bin': 16}. Best is trial 53 with value: 1.5107102366052687.\n",
            "[I 2023-10-28 12:52:44,328] Trial 79 finished with value: 1.552056147482444 and parameters: {'depth': 6, 'iterations': 1000, 'learning_rate': 0.001, 'colsample_bylevel': 0.5, 'subsample': 0.6, 'bootstrap_type': 'Bernoulli', 'min_data_in_leaf': 10, 'l2_leaf_reg': 7, 'random_strength': 3.1664297063677176, 'max_bin': 32}. Best is trial 53 with value: 1.5107102366052687.\n"
          ]
        }
      ],
      "source": [
        "# Your code here\n",
        "def objective(trial):\n",
        "    # boundaries for the optimizer's\n",
        "    depth = trial.suggest_int(\"depth\", 5, 9, step=1)\n",
        "    iterations = trial.suggest_int(\"iterations\", 500, 3000, step=500)\n",
        "    learning_rate = trial.suggest_categorical(\"learning_rate\", [0.001, 0.01, 0.03, 0.1, 0.5, 1])\n",
        "    colsample_bylevel = trial.suggest_categorical(\"colsample_bylevel\", [0.1, 0.2, 0.4, 0.5, 0.7, 1])\n",
        "    subsample = trial.suggest_categorical(\"subsample\", [0.4, 0.6, 0.8])\n",
        "    bootstrap_type = trial.suggest_categorical(\"bootstrap_type\", ['Bernoulli', 'MVS'])\n",
        "\n",
        "    min_data_in_leaf = trial.suggest_int(\"min_data_in_leaf\", 6, 14, step=2)\n",
        "    l2_leaf_reg = trial.suggest_categorical(\"l2_leaf_reg\", [2, 5, 7, 10])\n",
        "    random_strength = trial.suggest_float(\"random_strength\", 1, 4)\n",
        "    max_bin = trial.suggest_categorical(\"max_bin\", [16, 32, 64, 128, 254, 512])\n",
        "\n",
        "\n",
        "    # create new model(and all parameters) every iteration\n",
        "    model = catboost.CatBoostRegressor(\n",
        "        iterations=iterations,\n",
        "        learning_rate=learning_rate,\n",
        "        depth=depth,\n",
        "        colsample_bylevel=colsample_bylevel,\n",
        "        subsample=subsample,\n",
        "        bootstrap_type=bootstrap_type,\n",
        "        min_data_in_leaf=min_data_in_leaf,\n",
        "        l2_leaf_reg=l2_leaf_reg,\n",
        "        random_strength=random_strength,\n",
        "        max_bin=max_bin,\n",
        "        random_state=42,\n",
        "        verbose=0,\n",
        "    )\n",
        "\n",
        "    model.fit(x_train_search, y_train_search)\n",
        "    y_pred = model.predict(x_val)\n",
        "    boot_score = bootstrap_metric(\n",
        "        y_val,\n",
        "        y_pred,\n",
        "        metric_fn=lambda x, y: mse(y_true=x, y_pred=y),\n",
        "    )\n",
        "\n",
        "    return boot_score.mean()\n",
        "\n",
        "\n",
        "# Create \"exploration\"\n",
        "study = optuna.create_study(\n",
        "    direction=\"minimize\", study_name=\"Optimizer\", sampler=RandomSampler(42)\n",
        ")\n",
        "\n",
        "study.optimize(\n",
        "    objective, n_trials=80\n",
        ")"
      ]
    },
    {
      "cell_type": "code",
      "source": [
        "model = catboost.CatBoostRegressor(\n",
        "        iterations=study.best_params['iterations'],\n",
        "        learning_rate=study.best_params['learning_rate'],\n",
        "        depth=study.best_params['depth'],\n",
        "        colsample_bylevel=study.best_params['colsample_bylevel'],\n",
        "        subsample=study.best_params['subsample'],\n",
        "        bootstrap_type=study.best_params['bootstrap_type'],\n",
        "        min_data_in_leaf=study.best_params['min_data_in_leaf'],\n",
        "        l2_leaf_reg=study.best_params['l2_leaf_reg'],\n",
        "        random_strength=study.best_params['random_strength'],\n",
        "        max_bin=study.best_params['max_bin'],\n",
        "        random_state=42,\n",
        "        verbose=0,\n",
        "        )\n",
        "\n",
        "model.fit(x_train, y_train)\n",
        "print(\"\\nmse_score after tuning: \", mse(y_test, model.predict(x_test)))"
      ],
      "metadata": {
        "colab": {
          "base_uri": "https://localhost:8080/"
        },
        "id": "v5oSvveQWqtx",
        "outputId": "71249f3b-baf6-4022-e8f5-dfb7adb86511"
      },
      "execution_count": 76,
      "outputs": [
        {
          "output_type": "stream",
          "name": "stdout",
          "text": [
            "\n",
            "mse_score after tuning:  1.5330083685241194\n"
          ]
        }
      ]
    },
    {
      "cell_type": "markdown",
      "source": [
        "mse получился чуть меньше (на 0.011), чем до настройки гиперпараметров"
      ],
      "metadata": {
        "id": "9TAQ7WEqXn1J"
      }
    },
    {
      "cell_type": "markdown",
      "metadata": {
        "id": "T6ev1WlQ1dMj"
      },
      "source": [
        "## Формат результата\n",
        "\n",
        "Значение `mse` с подобранными параметрами меньше, чем при стандартных параметрах."
      ]
    },
    {
      "cell_type": "markdown",
      "metadata": {
        "id": "ETmVlt1o1dMj"
      },
      "source": [
        "# Задание 5. Ансамблевое обучение (Дополнительно)"
      ]
    },
    {
      "cell_type": "markdown",
      "metadata": {
        "id": "tvFklYrS1dMk"
      },
      "source": [
        "В данной задаче вам нужно диагностировать сердечное заболевание у людей по [медицинским показателям](https://www.kaggle.com/datasets/cherngs/heart-disease-cleveland-uci)."
      ]
    },
    {
      "cell_type": "markdown",
      "metadata": {
        "id": "2AOf-Bl41dMk"
      },
      "source": [
        "Установка и импорт необходимых библиотек:"
      ]
    },
    {
      "cell_type": "code",
      "execution_count": 77,
      "metadata": {
        "id": "vG0jOGih1dMk",
        "colab": {
          "base_uri": "https://localhost:8080/"
        },
        "outputId": "48110d2d-7aaf-4b6f-c885-345fd179df51"
      },
      "outputs": [
        {
          "output_type": "stream",
          "name": "stdout",
          "text": [
            "\u001b[?25l     \u001b[90m━━━━━━━━━━━━━━━━━━━━━━━━━━━━━━━━━━━━━━━━\u001b[0m \u001b[32m0.0/1.7 MB\u001b[0m \u001b[31m?\u001b[0m eta \u001b[36m-:--:--\u001b[0m\r\u001b[2K     \u001b[91m━━━━━\u001b[0m\u001b[91m╸\u001b[0m\u001b[90m━━━━━━━━━━━━━━━━━━━━━━━━━━━━━━━━━━\u001b[0m \u001b[32m0.3/1.7 MB\u001b[0m \u001b[31m7.6 MB/s\u001b[0m eta \u001b[36m0:00:01\u001b[0m\r\u001b[2K     \u001b[91m━━━━━━━━━━━━━━━━━━━━━━━\u001b[0m\u001b[90m╺\u001b[0m\u001b[90m━━━━━━━━━━━━━━━━\u001b[0m \u001b[32m1.0/1.7 MB\u001b[0m \u001b[31m14.9 MB/s\u001b[0m eta \u001b[36m0:00:01\u001b[0m\r\u001b[2K     \u001b[91m━━━━━━━━━━━━━━━━━━━━━━━━━━━━━━━━━━━━━━━\u001b[0m\u001b[91m╸\u001b[0m \u001b[32m1.7/1.7 MB\u001b[0m \u001b[31m17.5 MB/s\u001b[0m eta \u001b[36m0:00:01\u001b[0m\r\u001b[2K     \u001b[90m━━━━━━━━━━━━━━━━━━━━━━━━━━━━━━━━━━━━━━━━\u001b[0m \u001b[32m1.7/1.7 MB\u001b[0m \u001b[31m14.9 MB/s\u001b[0m eta \u001b[36m0:00:00\u001b[0m\n",
            "\u001b[?25h"
          ]
        }
      ],
      "source": [
        "!pip install -q catboost\n",
        "!pip install -q lightgbm==3.0"
      ]
    },
    {
      "cell_type": "code",
      "execution_count": 78,
      "metadata": {
        "id": "dRVA3T161dMk"
      },
      "outputs": [],
      "source": [
        "import catboost\n",
        "import lightgbm\n",
        "import xgboost\n",
        "import sklearn\n",
        "import numpy as np\n",
        "import pandas as pd\n",
        "import seaborn as sns\n",
        "import matplotlib.pyplot as plt\n",
        "\n",
        "from sklearn.svm import SVC\n",
        "from sklearn.naive_bayes import GaussianNB\n",
        "from sklearn.tree import DecisionTreeClassifier\n",
        "from sklearn.neighbors import KNeighborsClassifier\n",
        "from sklearn.linear_model import LogisticRegression\n",
        "from sklearn.model_selection import (\n",
        "    train_test_split,\n",
        "    cross_val_score,\n",
        "    KFold,\n",
        ")\n",
        "from sklearn.ensemble import (\n",
        "    RandomForestClassifier,\n",
        "    ExtraTreesClassifier,\n",
        "    VotingClassifier,\n",
        ")"
      ]
    },
    {
      "cell_type": "markdown",
      "metadata": {
        "id": "BKqCNd2E1dMk"
      },
      "source": [
        "Загрузка датасета:"
      ]
    },
    {
      "cell_type": "code",
      "execution_count": 79,
      "metadata": {
        "id": "gAxWRRXP1dMk"
      },
      "outputs": [],
      "source": [
        "heart_dataset = pd.read_csv(\n",
        "    \"https://edunet.kea.su/repo/EduNet-web_dependencies/datasets/heart.csv \"\n",
        ")"
      ]
    },
    {
      "cell_type": "code",
      "execution_count": 80,
      "metadata": {
        "id": "A54zeHnI1dMk"
      },
      "outputs": [],
      "source": [
        "x = heart_dataset.drop(\"target\", axis=1)\n",
        "y = heart_dataset[\"target\"]\n",
        "x_train, x_test, y_train, y_test = train_test_split(x, y, random_state=42)"
      ]
    },
    {
      "cell_type": "markdown",
      "metadata": {
        "id": "365Ausd11dMk"
      },
      "source": [
        "Обучите разнообразные классификаторы, приведенные ниже, а также ансамбль `VotingClassifier` из `sklearn.ensemble`, объединяющий эти классификаторы с помощью жесткого или мякого голосования (параметр `voting =` `'hard'` или `'soft'` соответственно). Оцените качество моделей с помощью кросс-валидации на тренировочном наборе, используя функцию `cross_val_score` и метрику `f1`."
      ]
    },
    {
      "cell_type": "code",
      "execution_count": 89,
      "metadata": {
        "id": "wF32ToNJ1dMk",
        "colab": {
          "base_uri": "https://localhost:8080/"
        },
        "outputId": "44313e33-8965-4aba-87d0-abdf4bd714e0"
      },
      "outputs": [
        {
          "output_type": "stream",
          "name": "stdout",
          "text": [
            "VotingClassifier: 0.8051977097870817\n",
            "VotingClassifier: 0.8087743929648131\n"
          ]
        }
      ],
      "source": [
        "rng = np.random.RandomState(42)\n",
        "\n",
        "dt = DecisionTreeClassifier(random_state=rng, max_depth=10, min_samples_leaf=10)\n",
        "rf = RandomForestClassifier(n_estimators=50, random_state=rng)\n",
        "etc = ExtraTreesClassifier(random_state=rng)\n",
        "knn = KNeighborsClassifier(n_neighbors=5, weights='distance')\n",
        "svc_lin = SVC(kernel='linear', probability=True, random_state=rng)\n",
        "svc_rbf = SVC(kernel='rbf', probability=True, random_state=rng)\n",
        "cat = catboost.CatBoostClassifier(verbose=0, random_seed=42)\n",
        "lgbm = lightgbm.LGBMClassifier(random_state=42, verbosity=-1)\n",
        "lgbm_rf = lightgbm.LGBMClassifier(boosting_type=\"rf\", subsample_freq=1,subsample=0.7, random_state=42, verbosity=-1)\n",
        "xgb = xgboost.XGBClassifier(random_state=42)\n",
        "xgb_rf = xgboost.XGBRFClassifier(random_state=42)\n",
        "lr = LogisticRegression(solver='liblinear', max_iter=10000)\n",
        "nb = GaussianNB()\n",
        "\n",
        "# Your code here\n",
        "estimators_names = ['dt', 'rf', 'etc', 'knn', 'svc_lin', 'svc_rbf',\n",
        "                    'cat', 'lgbm', 'lgbm_rf', 'xgb', 'xgb_rf', 'lr', 'nb']\n",
        "estimators = [dt, rf, etc, knn, svc_lin, svc_rbf,\n",
        "              cat, lgbm, lgbm_rf, xgb, xgb_rf, lr, nb]\n",
        "\n",
        "voting_hard = VotingClassifier(estimators=list(zip(estimators_names, estimators)),\n",
        "                               voting='hard')\n",
        "voting_soft = VotingClassifier(estimators=list(zip(estimators_names, estimators)),\n",
        "                               voting='soft')\n",
        "# -----------\n",
        "\n",
        "for model in [voting_hard, voting_soft]:\n",
        "  scores = cross_val_score(model, x_train, y_train, cv=KFold(n_splits=3, shuffle=True, random_state=rng), scoring='f1')\n",
        "  print(f'{model.__class__.__name__}: {scores.mean()}')"
      ]
    },
    {
      "cell_type": "markdown",
      "metadata": {
        "id": "fmwv82VD1dMl"
      },
      "source": [
        "Вы можете заметить, что ансамбль показывает хорошее, но не лучшее качество предсказания, попробуем его улучшить. Как вы знаете, ансамбли работают лучше, когда модели, входящие в них, не скоррелированы друг с другом. Определите корреляцию предсказаний базовых моделей в ансамбле на тренировочном наборе и удалите из ансамбля те модели, чьи предсказания будут сильнее коррелировать с остальными. Можете модифицировать функцию `base_model_pair_correlation` из лекции."
      ]
    },
    {
      "cell_type": "code",
      "execution_count": 94,
      "metadata": {
        "id": "4OM8o8yM1dMl"
      },
      "outputs": [],
      "source": [
        "# Your code here\n",
        "import itertools\n",
        "import scipy\n",
        "\n",
        "def base_model_pair_correlation(ensemble, x):\n",
        "    corrs = []\n",
        "    pairs = []\n",
        "    for (i, est1), (j, est2) in itertools.combinations(\n",
        "        enumerate(ensemble.estimators_), 2\n",
        "    ):\n",
        "        y_pred_t1 = est1.predict_proba(x)[:, 1]\n",
        "\n",
        "        y_pred_t2 = est2.predict_proba(x)[:, 1]\n",
        "        corrs.append(scipy.stats.pearsonr(y_pred_t1, y_pred_t2)[0])\n",
        "        pairs.append((i, j))\n",
        "    return np.array(corrs), pairs"
      ]
    },
    {
      "cell_type": "code",
      "source": [
        "for model in [voting_hard, voting_soft]:\n",
        "    model.fit(x_train, y_train)"
      ],
      "metadata": {
        "id": "hoRCbWpZfnp6"
      },
      "execution_count": 91,
      "outputs": []
    },
    {
      "cell_type": "code",
      "source": [
        "corr_hard, pairs_hard = base_model_pair_correlation(voting_hard, x_train)\n",
        "corr_soft, pairs_soft = base_model_pair_correlation(voting_soft, x_train)"
      ],
      "metadata": {
        "id": "3vi7KGSfgwzd"
      },
      "execution_count": 95,
      "outputs": []
    },
    {
      "cell_type": "code",
      "source": [
        "plt.scatter(range(len(corr_hard)), corr_hard)"
      ],
      "metadata": {
        "colab": {
          "base_uri": "https://localhost:8080/",
          "height": 447
        },
        "id": "WUKpyzmrhQKX",
        "outputId": "b8bcfe5b-090c-4753-dbb8-ab8e782d8cf0"
      },
      "execution_count": 98,
      "outputs": [
        {
          "output_type": "execute_result",
          "data": {
            "text/plain": [
              "<matplotlib.collections.PathCollection at 0x78e6de46ddb0>"
            ]
          },
          "metadata": {},
          "execution_count": 98
        },
        {
          "output_type": "display_data",
          "data": {
            "text/plain": [
              "<Figure size 640x480 with 1 Axes>"
            ],
            "image/png": "[encoded data removed]"
          },
          "metadata": {}
        }
      ]
    },
    {
      "cell_type": "code",
      "source": [
        "plt.scatter(range(len(corr_soft)), corr_soft)"
      ],
      "metadata": {
        "colab": {
          "base_uri": "https://localhost:8080/",
          "height": 447
        },
        "id": "fYaWMQ9nhl2E",
        "outputId": "41bb9101-62f3-4672-cd68-7dd462dcc1ec"
      },
      "execution_count": 99,
      "outputs": [
        {
          "output_type": "execute_result",
          "data": {
            "text/plain": [
              "<matplotlib.collections.PathCollection at 0x78e6de921240>"
            ]
          },
          "metadata": {},
          "execution_count": 99
        },
        {
          "output_type": "display_data",
          "data": {
            "text/plain": [
              "<Figure size 640x480 with 1 Axes>"
            ],
            "image/png": "[encoded data removed]"
          },
          "metadata": {}
        }
      ]
    },
    {
      "cell_type": "code",
      "source": [
        "indices_low_corr_hard = np.argwhere(corr_hard < 0.65).flatten()"
      ],
      "metadata": {
        "id": "6rEE_TYJh9n7"
      },
      "execution_count": 108,
      "outputs": []
    },
    {
      "cell_type": "code",
      "source": [
        "for i in indices_low_corr_hard:\n",
        "    print(pairs_hard[i])\n",
        "\n"
      ],
      "metadata": {
        "colab": {
          "base_uri": "https://localhost:8080/"
        },
        "id": "n3NY_9jwim_1",
        "outputId": "2e1588bf-bbd7-4a96-bed7-4edbde0ae28c"
      },
      "execution_count": 109,
      "outputs": [
        {
          "output_type": "stream",
          "name": "stdout",
          "text": [
            "(0, 5)\n",
            "(1, 5)\n",
            "(2, 5)\n",
            "(3, 5)\n",
            "(4, 5)\n",
            "(5, 6)\n",
            "(5, 7)\n",
            "(5, 8)\n",
            "(5, 9)\n",
            "(5, 10)\n",
            "(5, 11)\n",
            "(5, 12)\n"
          ]
        }
      ]
    },
    {
      "cell_type": "markdown",
      "source": [
        "Оставим 5 estimator и еще 3, 4, 6, 7, например."
      ],
      "metadata": {
        "id": "FstWCn3dldeM"
      }
    },
    {
      "cell_type": "code",
      "source": [
        "to_drop = {}\n",
        "for i in range(len(voting_hard.estimators_)):\n",
        "    if i not in [3, 4, 5, 6, 7]:\n",
        "        to_drop[list(voting_hard.named_estimators_.keys())[i]] = 'drop'\n",
        "to_drop"
      ],
      "metadata": {
        "colab": {
          "base_uri": "https://localhost:8080/"
        },
        "id": "nVmOaVGAmPXy",
        "outputId": "55a9054f-3736-4181-9dee-c27a063a63a5"
      },
      "execution_count": 113,
      "outputs": [
        {
          "output_type": "execute_result",
          "data": {
            "text/plain": [
              "{'dt': 'drop',\n",
              " 'rf': 'drop',\n",
              " 'etc': 'drop',\n",
              " 'lgbm_rf': 'drop',\n",
              " 'xgb': 'drop',\n",
              " 'xgb_rf': 'drop',\n",
              " 'lr': 'drop',\n",
              " 'nb': 'drop'}"
            ]
          },
          "metadata": {},
          "execution_count": 113
        }
      ]
    },
    {
      "cell_type": "code",
      "source": [
        "voting_hard = voting_hard.set_params(**to_drop)\n",
        "voting_soft = voting_soft.set_params(**to_drop)"
      ],
      "metadata": {
        "id": "BumPOfsmkj5o"
      },
      "execution_count": 114,
      "outputs": []
    },
    {
      "cell_type": "code",
      "source": [],
      "metadata": {
        "id": "kX83fWuHkli_"
      },
      "execution_count": null,
      "outputs": []
    },
    {
      "cell_type": "markdown",
      "metadata": {
        "id": "rvT6dZfD1dMl"
      },
      "source": [
        "Создайте новый ансамбль, на исправленном наборе моделей и оцените его качество с помощью кросс-валидации на тренировочном наборе, используя функцию `cross_val_score` и метрику `f1`."
      ]
    },
    {
      "cell_type": "code",
      "execution_count": 116,
      "metadata": {
        "id": "njXNs9wP1dMl",
        "colab": {
          "base_uri": "https://localhost:8080/"
        },
        "outputId": "da899d15-8297-48eb-aa09-824ce38c27fb"
      },
      "outputs": [
        {
          "output_type": "stream",
          "name": "stdout",
          "text": [
            "VotingClassifier: 0.8231256332320163\n",
            "VotingClassifier: 0.8392716709198004\n"
          ]
        }
      ],
      "source": [
        "# Your code here\n",
        "\n",
        "#voting_hard_2 =\n",
        "#voting_soft_2 =\n",
        "# ------------\n",
        "\n",
        "for model in [voting_hard, voting_soft]:\n",
        "  scores = cross_val_score(model, x_train, y_train, cv=KFold(n_splits=3, shuffle=True, random_state=rng), scoring='f1')\n",
        "  print(f'{model.__class__.__name__}: {scores.mean()}')"
      ]
    },
    {
      "cell_type": "markdown",
      "metadata": {
        "id": "oFinKiL51dMl"
      },
      "source": [
        "Обучите все получившиеся модели на тренировочном наборе и испытайте их качество на тестовом наборе. Получилось ли у улучшенных версий ансамблевого классификатора превзойти базовые модели, входящие в него, и свои предыдущие версии?"
      ]
    },
    {
      "cell_type": "code",
      "execution_count": 118,
      "metadata": {
        "id": "DssZ3F-i1dMl"
      },
      "outputs": [],
      "source": [
        "# Your code here\n",
        "for model in [voting_hard, voting_soft]:\n",
        "    model.fit(x_train, y_train)"
      ]
    },
    {
      "cell_type": "markdown",
      "metadata": {
        "id": "zIwaX5FI1dMl"
      },
      "source": [
        "Какие ансамбли работают лучше? Всегда ли больше моделей значит лучше?\n",
        "\n",
        "**Напишите вывод**"
      ]
    },
    {
      "cell_type": "markdown",
      "source": [
        "На кросс-валидации ансамбли с меньшим числом моделей (после того, как убрали скоррелированные модели) показывают лучшее качество по сравнению с изначальным вариантом."
      ],
      "metadata": {
        "id": "kajR7T6moAvw"
      }
    },
    {
      "cell_type": "markdown",
      "metadata": {
        "id": "itQnmAEw1dMl"
      },
      "source": [
        "## Формат результата"
      ]
    },
    {
      "cell_type": "markdown",
      "metadata": {
        "id": "0q93B7oT1dMl"
      },
      "source": [
        "Получить значения качества для ансамблей и моделей."
      ]
    }
  ],
  "metadata": {
    "colab": {
      "provenance": [],
      "toc_visible": true
    },
    "language_info": {
      "name": "python"
    },
    "kernelspec": {
      "name": "python3",
      "display_name": "Python 3"
    }
  },
  "nbformat": 4,
  "nbformat_minor": 0
}